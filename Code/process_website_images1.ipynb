{
 "cells": [
  {
   "cell_type": "code",
   "execution_count": null,
   "metadata": {},
   "outputs": [],
   "source": [
    "# Take the 50 randomline images and process them into a useable 12x12 pixel\n",
    "#    format. The 12x12 images are then saved as labeled csvs.\n"
   ]
  },
  {
   "cell_type": "code",
   "execution_count": 5,
   "metadata": {
    "pycharm": {
     "is_executing": false
    }
   },
   "outputs": [],
   "source": [
    "%matplotlib inline\n",
    "import numpy as np\n",
    "import matplotlib as mpl\n",
    "import matplotlib.pyplot as plt\n",
    "import scipy.misc\n",
    "import imageio\n",
    "import cv2\n",
    "from PIL import Image\n",
    "import sys\n",
    "import os\n",
    "import csv\n",
    "import pickle\n",
    "datapath = \"/home/kenny/Dropbox/Coding/MLArtUIowa/Data/\" #HomeDesktop"
   ]
  },
  {
   "cell_type": "code",
   "execution_count": 6,
   "metadata": {},
   "outputs": [],
   "source": [
    "#Crop out the white space in the 50 png files from the website\n",
    "\n",
    "left = 112\n",
    "top = 34\n",
    "right = 331\n",
    "bottom = 253\n",
    "unique_names = np.array([\"yim\" + str(i) + \".png\" for i in range(50)])  #Website Data\n",
    "for name in unique_names:\n",
    "    img = Image.open(datapath + \"unprocessed_50imgs/\" + name)\n",
    "    cropped_img = img.crop((left, top, right, bottom)) \n",
    "    cropped_img.save(datapath + \"unprocessed_50imgs/cropped\" + name)\n",
    "    "
   ]
  },
  {
   "cell_type": "code",
   "execution_count": 8,
   "metadata": {},
   "outputs": [],
   "source": [
    "# Resize images to 12x12 pixels\n",
    "\n",
    "\n",
    "for name in unique_names:\n",
    "    img = cv2.imread(datapath + \"unprocessed_50imgs/cropped\" + name, cv2.IMREAD_UNCHANGED)\n",
    "    resized_img = cv2.resize(img, (12, 12))\n",
    "    cv2.imwrite(datapath + \"processed_50imgs/\" + name, resized_img)\n"
   ]
  },
  {
   "cell_type": "code",
   "execution_count": 32,
   "metadata": {},
   "outputs": [],
   "source": [
    "# Create csv where the each row is a different image. The first 144 columns\n",
    "#  are pixel values and the last column is the image number (from 0 - 49)\n",
    "\n",
    "format = '.png'\n",
    "fileList = []\n",
    "#print(myDir)\n",
    "#for root, dirs, files in os.walk(datapath + \"Data/processed_randomline_images/\", topdown=False):\n",
    "for root, dirs, files in os.walk(datapath + \"processed_50imgs/\", topdown=False):\n",
    "    for name in sorted(files):\n",
    "        if name.endswith(format):\n",
    "            fullName = os.path.join(root, name)\n",
    "            fileList.append(fullName)\n",
    "\n",
    "for file in fileList:\n",
    "    #print(file)\n",
    "    img_file = Image.open(file)\n",
    "    # img_file.show()\n",
    "\n",
    "    # get original image parameters...\n",
    "    width, height = img_file.size\n",
    "    format = img_file.format\n",
    "    mode = img_file.mode\n",
    "\n",
    "    # Make image Greyscale\n",
    "    img_grey = img_file.convert('L')\n",
    "    #img_grey.save('result.png')\n",
    "    #img_grey.show()\n",
    "    \n",
    "    # Save Greyscale values\n",
    "    value = np.asarray(img_grey.getdata(), dtype=np.int).reshape((img_grey.size[1], img_grey.size[0]))\n",
    "    value = value.flatten()\n",
    "    # print(value)\n",
    "    #with open(datapath + \"Data/imgpixels_label.csv\", 'a') as f:Code\n",
    "    with open(datapath + \"imgpixels_label.csv\", 'a') as f:\n",
    "        writer = csv.writer(f)\n",
    "        writer.writerow(np.append(value,file[63:-4])) # Change these indices based on your file path"
   ]
  },
  {
   "cell_type": "code",
   "execution_count": 31,
   "metadata": {},
   "outputs": [],
   "source": [
    "# Read website grade data and create a csv where the first column is the img number and the\n",
    "#  second column is the user-assigned grade\n",
    "\n",
    "with open(datapath + \"website_image_grades.csv\", \"r\") as f:\n",
    "    reader = csv.reader(f, delimiter=',')\n",
    "    headers = next(reader)\n",
    "    data = list(reader)\n",
    "    data = np.array(data)\n",
    "    \n",
    "image_names = data[:,1]\n",
    "image_grades = data[:,2]\n",
    "\n",
    "for i in range(len(image_names)):\n",
    "    with open(datapath + \"label_grade.csv\", 'a') as f:\n",
    "        writer = csv.writer(f)\n",
    "        writer.writerow([int(image_names[i][3:-4]),int(image_grades[i])])"
   ]
  },
  {
   "cell_type": "code",
   "execution_count": 33,
   "metadata": {},
   "outputs": [],
   "source": [
    "# Load data\n",
    "\n",
    "imgpixels_label = np.loadtxt(datapath + \"imgpixels_label.csv\", \n",
    "                        delimiter=\",\")\n",
    "label_grade = np.loadtxt(datapath + \"label_grade.csv\", \n",
    "                        delimiter=\",\")\n",
    "# Create array of user-submitted data with structure (label[0], grade[1], pixel values[2:145])\n",
    "label_grade_imgpixels = np.zeros((len(label_grade[:,1]), 144 + len(label_grade[0,:])))\n",
    "for i in range(len(label_grade[:,1])):\n",
    "    for j in range(50):\n",
    "        if label_grade[i,0] == imgpixels_label[j,144]:\n",
    "            label_grade_imgpixels[i] = np.append(label_grade[i].astype(int), imgpixels_label[j,:144]) # img label, grade, pixels..."
   ]
  },
  {
   "cell_type": "code",
   "execution_count": 34,
   "metadata": {},
   "outputs": [
    {
     "data": {
      "text/plain": [
       "(3280, 144)"
      ]
     },
     "execution_count": 34,
     "metadata": {},
     "output_type": "execute_result"
    }
   ],
   "source": [
    "image_size = 12 # width and length\n",
    "no_of_different_grades = 10 #  i.e. 0, 1, 2, 3, ..., 9\n",
    "image_pixels = image_size * image_size\n",
    "\n",
    "# Compress possible pixel values to the interval [0.01, 1] \n",
    "train_imgs = np.asfarray(label_grade_imgpixels[:,2:146]) * 0.99/255 + 0.01\n",
    "train_imgs.shape"
   ]
  },
  {
   "cell_type": "code",
   "execution_count": 35,
   "metadata": {},
   "outputs": [
    {
     "data": {
      "text/plain": [
       "array([[0., 0., 0., ..., 0., 0., 0.],\n",
       "       [0., 0., 0., ..., 0., 0., 0.],\n",
       "       [0., 0., 0., ..., 0., 0., 0.],\n",
       "       ...,\n",
       "       [0., 0., 0., ..., 0., 0., 0.],\n",
       "       [0., 0., 0., ..., 0., 0., 1.],\n",
       "       [0., 0., 1., ..., 0., 0., 0.]])"
      ]
     },
     "execution_count": 35,
     "metadata": {},
     "output_type": "execute_result"
    }
   ],
   "source": [
    "# Map all image grades to One-Hot encoding\n",
    "a = label_grade_imgpixels[:,1]\n",
    "OneHotGrades = np.zeros((a.size, int(a.max()+1)))\n",
    "OneHotGrades[np.arange(a.size),a.astype(int)] = 1\n",
    "OneHotGrades"
   ]
  },
  {
   "cell_type": "code",
   "execution_count": 36,
   "metadata": {},
   "outputs": [],
   "source": [
    "# Get rid of all zeroes of ones\n",
    "OneHotGrades[OneHotGrades==0] = 0.01\n",
    "OneHotGrades[OneHotGrades==1] = 0.99"
   ]
  },
  {
   "cell_type": "code",
   "execution_count": 37,
   "metadata": {
    "pycharm": {
     "name": "#%%\n"
    }
   },
   "outputs": [],
   "source": [
    "with open(datapath + 'data.pkl', 'bw') as fh:\n",
    "    data = (label_grade_imgpixels, OneHotGrades, train_imgs)\n",
    "    pickle.dump(data, fh)"
   ]
  },
  {
   "cell_type": "code",
   "execution_count": null,
   "metadata": {
    "pycharm": {
     "name": "#%%\n"
    }
   },
   "outputs": [],
   "source": [
    "with open(datapath + \"Data/ANN_epoch10000_200H1.pkl\", \"rb\") as fh:\n",
    "    data = pickle.load(fh)"
   ]
  }
 ],
 "metadata": {
  "kernelspec": {
   "display_name": "Python 3",
   "language": "python",
   "name": "python3"
  },
  "language_info": {
   "codemirror_mode": {
    "name": "ipython",
    "version": 3
   },
   "file_extension": ".py",
   "mimetype": "text/x-python",
   "name": "python",
   "nbconvert_exporter": "python",
   "pygments_lexer": "ipython3",
   "version": "3.8.8"
  },
  "pycharm": {
   "stem_cell": {
    "cell_type": "raw",
    "metadata": {
     "collapsed": false
    },
    "source": []
   }
  }
 },
 "nbformat": 4,
 "nbformat_minor": 4
}
