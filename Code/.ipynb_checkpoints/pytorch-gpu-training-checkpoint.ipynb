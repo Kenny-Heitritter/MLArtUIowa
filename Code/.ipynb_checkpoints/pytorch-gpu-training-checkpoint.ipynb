{
 "cells": [
  {
   "cell_type": "markdown",
   "metadata": {
    "_uuid": "c5e8a4348bb717c325a8b4cab711f44f7766b154"
   },
   "source": [
    "# Testing GPU-enabled Notebooks for MNIST with Pytorch\n",
    "In this notebook, we build a simple CNN model for Kaggle (the Pytorch example CNN, in fact) and compare how long it takes to train on GPU compared with CPU.\n",
    "\n",
    "First of all, when running this notebook on Kaggle you need to go to the Settings pane on the right of the notebook and turn on the GPU option. When you do that, the notebook will restart, moving from a CPU-only to a GPU enabled server."
   ]
  },
  {
   "cell_type": "code",
   "execution_count": 2,
   "metadata": {
    "_cell_guid": "b1076dfc-b9ad-4769-8c92-a6c4dae69d19",
    "_uuid": "8f2839f25d086af736a60e9eeb907d3b93b6e0e5"
   },
   "outputs": [
    {
     "name": "stdout",
     "output_type": "stream",
     "text": [
      "['NNs', 'processed_50imgs', 'train.csv', 'website_image_grades.csv', 'label_grade.csv', 'test.csv', 'unprocessed_50imgs', 'imgpixels_label.csv', 'label_grade_pixels.csv']\n"
     ]
    }
   ],
   "source": [
    "import numpy as np\n",
    "import pandas as pd\n",
    "\n",
    "# Input data files are available in the \"../input/\" directory.\n",
    "# For example, running this (by clicking run or pressing Shift+Enter) will list the files in the input directory\n",
    "\n",
    "import os\n",
    "print(os.listdir(\"../Data\"))\n",
    "\n",
    "# Any results you write to the current directory are saved as output."
   ]
  },
  {
   "cell_type": "markdown",
   "metadata": {
    "_uuid": "238922f1a6f1b52194f2548bbb59e4d6a19e3f2e"
   },
   "source": [
    "Let's check we do have access to a GPU."
   ]
  },
  {
   "cell_type": "code",
   "execution_count": 3,
   "metadata": {
    "_uuid": "efa94695e575cd98de3577c32805e002ac8fcf20"
   },
   "outputs": [
    {
     "name": "stdout",
     "output_type": "stream",
     "text": [
      "Tue Mar 23 22:28:02 2021       \n",
      "+-----------------------------------------------------------------------------+\n",
      "| NVIDIA-SMI 460.39       Driver Version: 460.39       CUDA Version: 11.2     |\n",
      "|-------------------------------+----------------------+----------------------+\n",
      "| GPU  Name        Persistence-M| Bus-Id        Disp.A | Volatile Uncorr. ECC |\n",
      "| Fan  Temp  Perf  Pwr:Usage/Cap|         Memory-Usage | GPU-Util  Compute M. |\n",
      "|                               |                      |               MIG M. |\n",
      "|===============================+======================+======================|\n",
      "|   0  GeForce RTX 3090    Off  | 00000000:26:00.0  On |                  N/A |\n",
      "|  0%   42C    P8    36W / 370W |   1836MiB / 24265MiB |      0%      Default |\n",
      "|                               |                      |                  N/A |\n",
      "+-------------------------------+----------------------+----------------------+\n",
      "                                                                               \n",
      "+-----------------------------------------------------------------------------+\n",
      "| Processes:                                                                  |\n",
      "|  GPU   GI   CI        PID   Type   Process name                  GPU Memory |\n",
      "|        ID   ID                                                   Usage      |\n",
      "|=============================================================================|\n",
      "|    0   N/A  N/A      2720      G   /usr/lib/xorg/Xorg                 53MiB |\n",
      "|    0   N/A  N/A      7065      G   /usr/lib/xorg/Xorg                226MiB |\n",
      "|    0   N/A  N/A      7203      G   /usr/bin/gnome-shell               42MiB |\n",
      "|    0   N/A  N/A     12079      G   ...AAAAAAAAA= --shared-files       15MiB |\n",
      "|    0   N/A  N/A     15778      G   ...AAAAAAAAA= --shared-files       58MiB |\n",
      "|    0   N/A  N/A     16476      G   /usr/lib/firefox/firefox            4MiB |\n",
      "|    0   N/A  N/A     18183      G   /usr/lib/firefox/firefox            4MiB |\n",
      "|    0   N/A  N/A     19251      G   /usr/lib/firefox/firefox            4MiB |\n",
      "|    0   N/A  N/A     26744      G   .../Linux-x86-64/Mathematica        4MiB |\n",
      "|    0   N/A  N/A     32160      C   ...pytorch-stable/bin/python     1401MiB |\n",
      "+-----------------------------------------------------------------------------+\n"
     ]
    }
   ],
   "source": [
    "!nvidia-smi"
   ]
  },
  {
   "cell_type": "markdown",
   "metadata": {
    "_uuid": "288bafe17bef064cc0dcc64faf08e36c735fd215"
   },
   "source": [
    "Yes, we have a Tesla K80. Great!\n",
    "\n",
    "When you run this command, it should tell you the stats for the GPU available, the GPU's temperature, available memory, and which processes are running on the GPU. Hopefully that will be no processes, since we haven't started running any yet.\n",
    "\n",
    "If you are on a server without GPU compute installed, the nvidia-smi command will not be defined and you will receive the following error:\n",
    "```\n",
    "/bin/sh: 1: nvidia-smi: not found\n",
    "```\n",
    "To resolve this, change the Settings for your Kaggle kernel so it is \"GPU on\" instead of \"GPU off\"."
   ]
  },
  {
   "cell_type": "markdown",
   "metadata": {
    "_uuid": "c38fd0d811cf965f99f165d808b7d83f29605203"
   },
   "source": [
    "## Importing modules\n",
    "Import matplotlib, sklearn and pytorch dependencies."
   ]
  },
  {
   "cell_type": "code",
   "execution_count": 4,
   "metadata": {
    "_uuid": "220cc8e2a3bd9240f6c66620895c0bd0bcfe85e7"
   },
   "outputs": [],
   "source": [
    "import matplotlib.pyplot as plt\n",
    "%matplotlib inline"
   ]
  },
  {
   "cell_type": "code",
   "execution_count": 5,
   "metadata": {
    "_uuid": "fb65cf782eca6e21acdd4bfc51b4ead04facec30"
   },
   "outputs": [],
   "source": [
    "import sklearn\n",
    "import sklearn.model_selection\n",
    "\n",
    "import torch\n",
    "import torch.nn as nn\n",
    "import torch.nn.functional as F\n",
    "import torchvision"
   ]
  },
  {
   "cell_type": "markdown",
   "metadata": {
    "_uuid": "1455f37c18529265ef4b99b9c5c013eff0d09f8b"
   },
   "source": [
    "Let's also check to make sure torch thinks we can use the GPU."
   ]
  },
  {
   "cell_type": "code",
   "execution_count": 6,
   "metadata": {
    "_uuid": "72294ed29f37d1a88c5121fc4498bf22f3ac3ac9"
   },
   "outputs": [
    {
     "data": {
      "text/plain": [
       "True"
      ]
     },
     "execution_count": 6,
     "metadata": {},
     "output_type": "execute_result"
    }
   ],
   "source": [
    "torch.cuda.is_available()"
   ]
  },
  {
   "cell_type": "markdown",
   "metadata": {
    "_uuid": "b3940196b06c765d001a4a60fc5998001a840f71"
   },
   "source": [
    "This should be `True`. If you see `False` here, something is wrong and torch isn't going to be able to run on the GPU.\n",
    "\n",
    "Possible causes to seeing `False` at this point:\n",
    "- You don't have a GPU (see above with regards to the `nvidia-smi` check)\n",
    "- You have a CPU-only version of pytorch installed, in which case you need to install the gpu enabled version\n",
    "- You don't have the CUDA library\n",
    "- You don't have the CUDA library path included on either the `PATH` or `LD_LIBRARY_PATH` variables\n",
    "- You have the wrong version of CUDA for the version of pytorch\n",
    "- Probably other possiblities\n",
    "\n",
    "You might encounter some of those problems if you download and run this notebook locally. However, if you're running this on Kaggle's server with the GPU option turned on, everything should run smoothly. When you run it on Kaggle, everything should already be installed correctly."
   ]
  },
  {
   "cell_type": "markdown",
   "metadata": {
    "_uuid": "ad3848ca0fdcee7b39f6e0236df568861e6947e7"
   },
   "source": [
    "## Loading data\n",
    "Pytorch comes with a built-in MNIST data loader. However, we can't use that because we need to use the train/test split offered by Kaggle to correctly work with the framework of this competition. Instead, we will load up the data in the train and test csv files shown above."
   ]
  },
  {
   "cell_type": "code",
   "execution_count": 7,
   "metadata": {
    "_uuid": "afb03562fd7beb632f725c60e949b581119addf9"
   },
   "outputs": [],
   "source": [
    "train_df = pd.read_csv('../Data/train.csv')\n",
    "test_df = pd.read_csv('../Data/test.csv')"
   ]
  },
  {
   "cell_type": "code",
   "execution_count": 8,
   "metadata": {
    "_kg_hide-input": false,
    "_kg_hide-output": false,
    "_uuid": "2bb0b821109e671f74dd2bf149b9dff0181259dc"
   },
   "outputs": [
    {
     "data": {
      "text/html": [
       "<div>\n",
       "<style scoped>\n",
       "    .dataframe tbody tr th:only-of-type {\n",
       "        vertical-align: middle;\n",
       "    }\n",
       "\n",
       "    .dataframe tbody tr th {\n",
       "        vertical-align: top;\n",
       "    }\n",
       "\n",
       "    .dataframe thead th {\n",
       "        text-align: right;\n",
       "    }\n",
       "</style>\n",
       "<table border=\"1\" class=\"dataframe\">\n",
       "  <thead>\n",
       "    <tr style=\"text-align: right;\">\n",
       "      <th></th>\n",
       "      <th>Unnamed: 0</th>\n",
       "      <th>Label</th>\n",
       "      <th>Grade</th>\n",
       "      <th>Pixel1</th>\n",
       "      <th>Pixel2</th>\n",
       "      <th>Pixel3</th>\n",
       "      <th>Pixel4</th>\n",
       "      <th>Pixel5</th>\n",
       "      <th>Pixel6</th>\n",
       "      <th>Pixel7</th>\n",
       "      <th>...</th>\n",
       "      <th>Pixel135</th>\n",
       "      <th>Pixel136</th>\n",
       "      <th>Pixel137</th>\n",
       "      <th>Pixel138</th>\n",
       "      <th>Pixel139</th>\n",
       "      <th>Pixel140</th>\n",
       "      <th>Pixel141</th>\n",
       "      <th>Pixel142</th>\n",
       "      <th>Pixel143</th>\n",
       "      <th>Pixel144</th>\n",
       "    </tr>\n",
       "  </thead>\n",
       "  <tbody>\n",
       "    <tr>\n",
       "      <th>0</th>\n",
       "      <td>1457</td>\n",
       "      <td>48.0</td>\n",
       "      <td>5.0</td>\n",
       "      <td>1.00</td>\n",
       "      <td>1.00</td>\n",
       "      <td>1.00</td>\n",
       "      <td>1.00</td>\n",
       "      <td>1.00</td>\n",
       "      <td>1.00</td>\n",
       "      <td>1.00</td>\n",
       "      <td>...</td>\n",
       "      <td>1.0</td>\n",
       "      <td>1.0</td>\n",
       "      <td>1.00</td>\n",
       "      <td>1.0</td>\n",
       "      <td>1.00</td>\n",
       "      <td>1.0</td>\n",
       "      <td>1.00</td>\n",
       "      <td>1.0</td>\n",
       "      <td>1.00</td>\n",
       "      <td>1.0</td>\n",
       "    </tr>\n",
       "    <tr>\n",
       "      <th>1</th>\n",
       "      <td>3071</td>\n",
       "      <td>20.0</td>\n",
       "      <td>1.0</td>\n",
       "      <td>0.01</td>\n",
       "      <td>0.01</td>\n",
       "      <td>0.01</td>\n",
       "      <td>0.01</td>\n",
       "      <td>0.01</td>\n",
       "      <td>1.00</td>\n",
       "      <td>1.00</td>\n",
       "      <td>...</td>\n",
       "      <td>1.0</td>\n",
       "      <td>1.0</td>\n",
       "      <td>0.01</td>\n",
       "      <td>1.0</td>\n",
       "      <td>1.00</td>\n",
       "      <td>1.0</td>\n",
       "      <td>1.00</td>\n",
       "      <td>1.0</td>\n",
       "      <td>0.01</td>\n",
       "      <td>1.0</td>\n",
       "    </tr>\n",
       "    <tr>\n",
       "      <th>2</th>\n",
       "      <td>2785</td>\n",
       "      <td>38.0</td>\n",
       "      <td>3.0</td>\n",
       "      <td>1.00</td>\n",
       "      <td>1.00</td>\n",
       "      <td>1.00</td>\n",
       "      <td>1.00</td>\n",
       "      <td>1.00</td>\n",
       "      <td>1.00</td>\n",
       "      <td>1.00</td>\n",
       "      <td>...</td>\n",
       "      <td>1.0</td>\n",
       "      <td>1.0</td>\n",
       "      <td>1.00</td>\n",
       "      <td>1.0</td>\n",
       "      <td>1.00</td>\n",
       "      <td>1.0</td>\n",
       "      <td>1.00</td>\n",
       "      <td>1.0</td>\n",
       "      <td>1.00</td>\n",
       "      <td>1.0</td>\n",
       "    </tr>\n",
       "    <tr>\n",
       "      <th>3</th>\n",
       "      <td>1108</td>\n",
       "      <td>38.0</td>\n",
       "      <td>3.0</td>\n",
       "      <td>1.00</td>\n",
       "      <td>1.00</td>\n",
       "      <td>1.00</td>\n",
       "      <td>1.00</td>\n",
       "      <td>1.00</td>\n",
       "      <td>1.00</td>\n",
       "      <td>1.00</td>\n",
       "      <td>...</td>\n",
       "      <td>1.0</td>\n",
       "      <td>1.0</td>\n",
       "      <td>1.00</td>\n",
       "      <td>1.0</td>\n",
       "      <td>1.00</td>\n",
       "      <td>1.0</td>\n",
       "      <td>1.00</td>\n",
       "      <td>1.0</td>\n",
       "      <td>1.00</td>\n",
       "      <td>1.0</td>\n",
       "    </tr>\n",
       "    <tr>\n",
       "      <th>4</th>\n",
       "      <td>2598</td>\n",
       "      <td>43.0</td>\n",
       "      <td>2.0</td>\n",
       "      <td>1.00</td>\n",
       "      <td>1.00</td>\n",
       "      <td>0.01</td>\n",
       "      <td>0.01</td>\n",
       "      <td>0.01</td>\n",
       "      <td>0.01</td>\n",
       "      <td>0.01</td>\n",
       "      <td>...</td>\n",
       "      <td>1.0</td>\n",
       "      <td>1.0</td>\n",
       "      <td>1.00</td>\n",
       "      <td>1.0</td>\n",
       "      <td>0.01</td>\n",
       "      <td>1.0</td>\n",
       "      <td>1.00</td>\n",
       "      <td>1.0</td>\n",
       "      <td>1.00</td>\n",
       "      <td>1.0</td>\n",
       "    </tr>\n",
       "    <tr>\n",
       "      <th>...</th>\n",
       "      <td>...</td>\n",
       "      <td>...</td>\n",
       "      <td>...</td>\n",
       "      <td>...</td>\n",
       "      <td>...</td>\n",
       "      <td>...</td>\n",
       "      <td>...</td>\n",
       "      <td>...</td>\n",
       "      <td>...</td>\n",
       "      <td>...</td>\n",
       "      <td>...</td>\n",
       "      <td>...</td>\n",
       "      <td>...</td>\n",
       "      <td>...</td>\n",
       "      <td>...</td>\n",
       "      <td>...</td>\n",
       "      <td>...</td>\n",
       "      <td>...</td>\n",
       "      <td>...</td>\n",
       "      <td>...</td>\n",
       "      <td>...</td>\n",
       "    </tr>\n",
       "    <tr>\n",
       "      <th>2291</th>\n",
       "      <td>1422</td>\n",
       "      <td>22.0</td>\n",
       "      <td>3.0</td>\n",
       "      <td>0.01</td>\n",
       "      <td>0.01</td>\n",
       "      <td>0.01</td>\n",
       "      <td>1.00</td>\n",
       "      <td>1.00</td>\n",
       "      <td>1.00</td>\n",
       "      <td>0.01</td>\n",
       "      <td>...</td>\n",
       "      <td>1.0</td>\n",
       "      <td>1.0</td>\n",
       "      <td>1.00</td>\n",
       "      <td>1.0</td>\n",
       "      <td>0.01</td>\n",
       "      <td>1.0</td>\n",
       "      <td>1.00</td>\n",
       "      <td>1.0</td>\n",
       "      <td>1.00</td>\n",
       "      <td>1.0</td>\n",
       "    </tr>\n",
       "    <tr>\n",
       "      <th>2292</th>\n",
       "      <td>197</td>\n",
       "      <td>0.0</td>\n",
       "      <td>4.0</td>\n",
       "      <td>1.00</td>\n",
       "      <td>1.00</td>\n",
       "      <td>1.00</td>\n",
       "      <td>1.00</td>\n",
       "      <td>0.01</td>\n",
       "      <td>0.01</td>\n",
       "      <td>0.01</td>\n",
       "      <td>...</td>\n",
       "      <td>1.0</td>\n",
       "      <td>1.0</td>\n",
       "      <td>1.00</td>\n",
       "      <td>1.0</td>\n",
       "      <td>0.01</td>\n",
       "      <td>1.0</td>\n",
       "      <td>1.00</td>\n",
       "      <td>1.0</td>\n",
       "      <td>1.00</td>\n",
       "      <td>1.0</td>\n",
       "    </tr>\n",
       "    <tr>\n",
       "      <th>2293</th>\n",
       "      <td>569</td>\n",
       "      <td>47.0</td>\n",
       "      <td>2.0</td>\n",
       "      <td>0.01</td>\n",
       "      <td>1.00</td>\n",
       "      <td>1.00</td>\n",
       "      <td>1.00</td>\n",
       "      <td>0.01</td>\n",
       "      <td>0.01</td>\n",
       "      <td>0.01</td>\n",
       "      <td>...</td>\n",
       "      <td>1.0</td>\n",
       "      <td>1.0</td>\n",
       "      <td>1.00</td>\n",
       "      <td>1.0</td>\n",
       "      <td>1.00</td>\n",
       "      <td>1.0</td>\n",
       "      <td>0.01</td>\n",
       "      <td>1.0</td>\n",
       "      <td>0.01</td>\n",
       "      <td>1.0</td>\n",
       "    </tr>\n",
       "    <tr>\n",
       "      <th>2294</th>\n",
       "      <td>1336</td>\n",
       "      <td>23.0</td>\n",
       "      <td>2.0</td>\n",
       "      <td>1.00</td>\n",
       "      <td>1.00</td>\n",
       "      <td>1.00</td>\n",
       "      <td>1.00</td>\n",
       "      <td>1.00</td>\n",
       "      <td>1.00</td>\n",
       "      <td>1.00</td>\n",
       "      <td>...</td>\n",
       "      <td>1.0</td>\n",
       "      <td>1.0</td>\n",
       "      <td>1.00</td>\n",
       "      <td>1.0</td>\n",
       "      <td>1.00</td>\n",
       "      <td>1.0</td>\n",
       "      <td>1.00</td>\n",
       "      <td>1.0</td>\n",
       "      <td>1.00</td>\n",
       "      <td>1.0</td>\n",
       "    </tr>\n",
       "    <tr>\n",
       "      <th>2295</th>\n",
       "      <td>890</td>\n",
       "      <td>24.0</td>\n",
       "      <td>7.0</td>\n",
       "      <td>0.01</td>\n",
       "      <td>1.00</td>\n",
       "      <td>1.00</td>\n",
       "      <td>1.00</td>\n",
       "      <td>1.00</td>\n",
       "      <td>1.00</td>\n",
       "      <td>0.01</td>\n",
       "      <td>...</td>\n",
       "      <td>1.0</td>\n",
       "      <td>1.0</td>\n",
       "      <td>1.00</td>\n",
       "      <td>1.0</td>\n",
       "      <td>0.01</td>\n",
       "      <td>1.0</td>\n",
       "      <td>0.01</td>\n",
       "      <td>1.0</td>\n",
       "      <td>0.01</td>\n",
       "      <td>1.0</td>\n",
       "    </tr>\n",
       "  </tbody>\n",
       "</table>\n",
       "<p>2296 rows × 147 columns</p>\n",
       "</div>"
      ],
      "text/plain": [
       "      Unnamed: 0  Label  Grade  Pixel1  Pixel2  Pixel3  Pixel4  Pixel5  \\\n",
       "0           1457   48.0    5.0    1.00    1.00    1.00    1.00    1.00   \n",
       "1           3071   20.0    1.0    0.01    0.01    0.01    0.01    0.01   \n",
       "2           2785   38.0    3.0    1.00    1.00    1.00    1.00    1.00   \n",
       "3           1108   38.0    3.0    1.00    1.00    1.00    1.00    1.00   \n",
       "4           2598   43.0    2.0    1.00    1.00    0.01    0.01    0.01   \n",
       "...          ...    ...    ...     ...     ...     ...     ...     ...   \n",
       "2291        1422   22.0    3.0    0.01    0.01    0.01    1.00    1.00   \n",
       "2292         197    0.0    4.0    1.00    1.00    1.00    1.00    0.01   \n",
       "2293         569   47.0    2.0    0.01    1.00    1.00    1.00    0.01   \n",
       "2294        1336   23.0    2.0    1.00    1.00    1.00    1.00    1.00   \n",
       "2295         890   24.0    7.0    0.01    1.00    1.00    1.00    1.00   \n",
       "\n",
       "      Pixel6  Pixel7  ...  Pixel135  Pixel136  Pixel137  Pixel138  Pixel139  \\\n",
       "0       1.00    1.00  ...       1.0       1.0      1.00       1.0      1.00   \n",
       "1       1.00    1.00  ...       1.0       1.0      0.01       1.0      1.00   \n",
       "2       1.00    1.00  ...       1.0       1.0      1.00       1.0      1.00   \n",
       "3       1.00    1.00  ...       1.0       1.0      1.00       1.0      1.00   \n",
       "4       0.01    0.01  ...       1.0       1.0      1.00       1.0      0.01   \n",
       "...      ...     ...  ...       ...       ...       ...       ...       ...   \n",
       "2291    1.00    0.01  ...       1.0       1.0      1.00       1.0      0.01   \n",
       "2292    0.01    0.01  ...       1.0       1.0      1.00       1.0      0.01   \n",
       "2293    0.01    0.01  ...       1.0       1.0      1.00       1.0      1.00   \n",
       "2294    1.00    1.00  ...       1.0       1.0      1.00       1.0      1.00   \n",
       "2295    1.00    0.01  ...       1.0       1.0      1.00       1.0      0.01   \n",
       "\n",
       "      Pixel140  Pixel141  Pixel142  Pixel143  Pixel144  \n",
       "0          1.0      1.00       1.0      1.00       1.0  \n",
       "1          1.0      1.00       1.0      0.01       1.0  \n",
       "2          1.0      1.00       1.0      1.00       1.0  \n",
       "3          1.0      1.00       1.0      1.00       1.0  \n",
       "4          1.0      1.00       1.0      1.00       1.0  \n",
       "...        ...       ...       ...       ...       ...  \n",
       "2291       1.0      1.00       1.0      1.00       1.0  \n",
       "2292       1.0      1.00       1.0      1.00       1.0  \n",
       "2293       1.0      0.01       1.0      0.01       1.0  \n",
       "2294       1.0      1.00       1.0      1.00       1.0  \n",
       "2295       1.0      0.01       1.0      0.01       1.0  \n",
       "\n",
       "[2296 rows x 147 columns]"
      ]
     },
     "execution_count": 8,
     "metadata": {},
     "output_type": "execute_result"
    }
   ],
   "source": [
    "train_df"
   ]
  },
  {
   "cell_type": "markdown",
   "metadata": {
    "_uuid": "7ec147e46cf06a252292a845e05c8670b6a10833"
   },
   "source": [
    "We need to convert our data from the dataframe into a matrix of inputs (X) and target outputs (y).\n",
    "Since MNIST is a small dataset, we can load all the data into memory at once to do this in one step. For bigger image datasets, this would not be possible."
   ]
  },
  {
   "cell_type": "code",
   "execution_count": 9,
   "metadata": {
    "_uuid": "d82058cf3974afaff2bd03894d3f91f136bc3a9d"
   },
   "outputs": [
    {
     "name": "stdout",
     "output_type": "stream",
     "text": [
      "X_train_all.shape: (2296, 12, 12)\n",
      "X_train_all.__class__: <class 'numpy.ndarray'>\n",
      "y_train_all.shape: (2296,)\n",
      "y_train_all.__class__: <class 'numpy.ndarray'>\n",
      "X_test.shape: (984, 12, 12)\n",
      "X_test.__class__: <class 'numpy.ndarray'>\n"
     ]
    }
   ],
   "source": [
    "X_train_all = train_df.drop(train_df.columns[[0,1,2]], axis=1).values.reshape((-1, 12,12))\n",
    "y_train_all = train_df['Grade'].values\n",
    "X_test = test_df.drop(test_df.columns[[0,1,2]], axis=1).values.reshape((-1, 12,12))\n",
    "\n",
    "print('X_train_all.shape: {}'.format(X_train_all.shape))\n",
    "print('X_train_all.__class__: {}'.format(X_train_all.__class__))\n",
    "print('y_train_all.shape: {}'.format(y_train_all.shape))\n",
    "print('y_train_all.__class__: {}'.format(y_train_all.__class__))\n",
    "print('X_test.shape: {}'.format(X_test.shape))\n",
    "print('X_test.__class__: {}'.format(X_test.__class__))"
   ]
  },
  {
   "cell_type": "markdown",
   "metadata": {
    "_uuid": "1c94dae1f8b014b2dbcaea3ae01c23779a5d4646"
   },
   "source": [
    "Next, let's make a validation set we can use for local evaluation."
   ]
  },
  {
   "cell_type": "code",
   "execution_count": 10,
   "metadata": {
    "_uuid": "928572b3c3918fe0ab4e07bb6e364971fae701a7"
   },
   "outputs": [
    {
     "name": "stdout",
     "output_type": "stream",
     "text": [
      "X_train.shape: (1607, 12, 12)\n",
      "X_val.shape: (689, 12, 12)\n",
      "y_train.shape: (1607,)\n",
      "y_val.shape: (689,)\n"
     ]
    }
   ],
   "source": [
    "X_train, X_val, y_train, y_val = sklearn.model_selection.train_test_split(\n",
    "    X_train_all,\n",
    "    y_train_all,\n",
    "    test_size=0.3,\n",
    "    shuffle=True,\n",
    "    stratify=y_train_all,\n",
    "    random_state=79508,\n",
    ")\n",
    "\n",
    "print('X_train.shape: {}'.format(X_train.shape))\n",
    "print('X_val.shape: {}'.format(X_val.shape))\n",
    "print('y_train.shape: {}'.format(y_train.shape))\n",
    "print('y_val.shape: {}'.format(y_val.shape))"
   ]
  },
  {
   "cell_type": "markdown",
   "metadata": {
    "_uuid": "6e4b5c84144e1d5df17eeaa7882f647de72cd653"
   },
   "source": [
    "We now have a 90/10 stratified split for train and validation."
   ]
  },
  {
   "cell_type": "markdown",
   "metadata": {
    "_uuid": "1147b1071a9411e054bc9c307a8d5b9d02c10113"
   },
   "source": [
    "## Inspecting the data\n",
    "Check our images look right."
   ]
  },
  {
   "cell_type": "markdown",
   "metadata": {
    "_uuid": "2596b1089c9483f0603fb5fad1658b5c06fdb721"
   },
   "source": [
    "Here, I dump out the contents of the array encoding the first image in the training set. We want to inspect the raw values to make sure the normalisation was done correctly (we are in the [0, 1] range and not [0, 255] or [0, 1/255]). We also want to make sure we have 0 as the background (black) and 1 as the foreground (white).\n",
    "\n",
    "These bugs can be missed if you just make a plot of the image, because the plotting function will automatically rescale the image and if you're using a pseudo colormap, you may not be sure which way around the colourmap is."
   ]
  },
  {
   "cell_type": "code",
   "execution_count": 11,
   "metadata": {
    "_uuid": "751c2296a5838fc517879a913884bfb164df41f0",
    "scrolled": true
   },
   "outputs": [
    {
     "data": {
      "text/plain": [
       "array([[0.01, 0.01, 0.01, 1.  , 1.  , 1.  , 0.01, 0.01, 0.01, 1.  , 1.  ,\n",
       "        1.  ],\n",
       "       [0.01, 1.  , 0.01, 1.  , 1.  , 1.  , 1.  , 1.  , 0.01, 1.  , 1.  ,\n",
       "        1.  ],\n",
       "       [0.01, 0.01, 0.01, 1.  , 1.  , 1.  , 1.  , 1.  , 0.01, 0.01, 0.01,\n",
       "        0.01],\n",
       "       [0.01, 1.  , 1.  , 1.  , 1.  , 1.  , 1.  , 1.  , 1.  , 1.  , 1.  ,\n",
       "        1.  ],\n",
       "       [0.01, 1.  , 1.  , 1.  , 1.  , 1.  , 1.  , 1.  , 1.  , 1.  , 1.  ,\n",
       "        1.  ],\n",
       "       [0.01, 1.  , 1.  , 1.  , 1.  , 1.  , 1.  , 1.  , 1.  , 1.  , 1.  ,\n",
       "        1.  ],\n",
       "       [0.01, 1.  , 1.  , 1.  , 1.  , 1.  , 1.  , 1.  , 1.  , 1.  , 1.  ,\n",
       "        1.  ],\n",
       "       [0.01, 1.  , 1.  , 1.  , 1.  , 1.  , 1.  , 1.  , 1.  , 1.  , 1.  ,\n",
       "        1.  ],\n",
       "       [0.01, 1.  , 1.  , 1.  , 1.  , 1.  , 1.  , 1.  , 1.  , 1.  , 1.  ,\n",
       "        1.  ],\n",
       "       [0.01, 1.  , 1.  , 1.  , 1.  , 1.  , 1.  , 1.  , 1.  , 1.  , 1.  ,\n",
       "        1.  ],\n",
       "       [0.01, 1.  , 1.  , 1.  , 1.  , 1.  , 0.01, 0.01, 0.01, 0.01, 0.01,\n",
       "        0.01],\n",
       "       [1.  , 1.  , 1.  , 1.  , 1.  , 1.  , 0.01, 1.  , 1.  , 1.  , 1.  ,\n",
       "        1.  ]])"
      ]
     },
     "execution_count": 11,
     "metadata": {},
     "output_type": "execute_result"
    }
   ],
   "source": [
    "X_train[0]"
   ]
  },
  {
   "cell_type": "markdown",
   "metadata": {
    "_uuid": "63f26fc165214e5f3d156f07841b5cdc49e07243"
   },
   "source": [
    "We've got 0s at the extremities, and can see values approaching but not exceeding 1.0. Looks good to me!\n",
    "\n",
    "Now lets check the images look sensible and are paired up with the right labels."
   ]
  },
  {
   "cell_type": "code",
   "execution_count": 12,
   "metadata": {
    "_uuid": "a7455627ec43210fab4a465976c7b61f6be88fa4"
   },
   "outputs": [
    {
     "data": {
      "image/png": "[encoded data removed]",
      "text/plain": [
       "<Figure size 432x288 with 1 Axes>"
      ]
     },
     "metadata": {
      "needs_background": "light"
     },
     "output_type": "display_data"
    },
    {
     "data": {
      "image/png": "[encoded data removed]",
      "text/plain": [
       "<Figure size 432x288 with 1 Axes>"
      ]
     },
     "metadata": {
      "needs_background": "light"
     },
     "output_type": "display_data"
    },
    {
     "data": {
      "image/png": "[encoded data removed]",
      "text/plain": [
       "<Figure size 432x288 with 1 Axes>"
      ]
     },
     "metadata": {
      "needs_background": "light"
     },
     "output_type": "display_data"
    },
    {
     "data": {
      "image/png": "[encoded data removed]",
      "text/plain": [
       "<Figure size 432x288 with 1 Axes>"
      ]
     },
     "metadata": {
      "needs_background": "light"
     },
     "output_type": "display_data"
    },
    {
     "data": {
      "image/png": "[encoded data removed]",
      "text/plain": [
       "<Figure size 432x288 with 1 Axes>"
      ]
     },
     "metadata": {
      "needs_background": "light"
     },
     "output_type": "display_data"
    },
    {
     "data": {
      "image/png": "[encoded data removed]",
      "text/plain": [
       "<Figure size 432x288 with 1 Axes>"
      ]
     },
     "metadata": {
      "needs_background": "light"
     },
     "output_type": "display_data"
    },
    {
     "data": {
      "image/png": "[encoded data removed]",
      "text/plain": [
       "<Figure size 432x288 with 1 Axes>"
      ]
     },
     "metadata": {
      "needs_background": "light"
     },
     "output_type": "display_data"
    },
    {
     "data": {
      "image/png": "[encoded data removed]",
      "text/plain": [
       "<Figure size 432x288 with 1 Axes>"
      ]
     },
     "metadata": {
      "needs_background": "light"
     },
     "output_type": "display_data"
    },
    {
     "data": {
      "image/png": "[encoded data removed]",
      "text/plain": [
       "<Figure size 432x288 with 1 Axes>"
      ]
     },
     "metadata": {
      "needs_background": "light"
     },
     "output_type": "display_data"
    },
    {
     "data": {
      "image/png": "[encoded data removed]",
      "text/plain": [
       "<Figure size 432x288 with 1 Axes>"
      ]
     },
     "metadata": {
      "needs_background": "light"
     },
     "output_type": "display_data"
    }
   ],
   "source": [
    "for i in range(10):\n",
    "    plt.imshow(X_train[i], cmap='gray')\n",
    "    plt.title('label = {}'.format(y_train[i]))\n",
    "    plt.show()"
   ]
  },
  {
   "cell_type": "markdown",
   "metadata": {
    "_uuid": "269924b10ed97f40fb862fda1f6a429e71710a37"
   },
   "source": [
    "That was a surprisingly large amount of '2's. That's a reminder that we should check our label balance!"
   ]
  },
  {
   "cell_type": "code",
   "execution_count": 13,
   "metadata": {
    "_uuid": "1800e4e431ff948a993ad60eeebcce1539358d28"
   },
   "outputs": [
    {
     "data": {
      "text/plain": [
       "array([0, 1, 2, 3, 4, 5, 6, 7, 8, 9])"
      ]
     },
     "execution_count": 13,
     "metadata": {},
     "output_type": "execute_result"
    }
   ],
   "source": [
    "y_unq = np.unique(y_train_all.astype(int))\n",
    "y_unq"
   ]
  },
  {
   "cell_type": "code",
   "execution_count": 14,
   "metadata": {
    "_uuid": "5c80665e1187fb91841043c2f9462a80060577f2"
   },
   "outputs": [
    {
     "data": {
      "image/png": "[encoded data removed]",
      "text/plain": [
       "<Figure size 432x288 with 1 Axes>"
      ]
     },
     "metadata": {
      "needs_background": "light"
     },
     "output_type": "display_data"
    },
    {
     "data": {
      "image/png": "[encoded data removed]",
      "text/plain": [
       "<Figure size 432x288 with 1 Axes>"
      ]
     },
     "metadata": {
      "needs_background": "light"
     },
     "output_type": "display_data"
    }
   ],
   "source": [
    "bin_edges = np.concatenate([y_unq, y_unq[[-1]] + 1])\n",
    "plt.hist(y_train, bins=bin_edges)\n",
    "plt.xlabel('Class label')\n",
    "plt.ylabel('Count')\n",
    "plt.title('Training label distribution')\n",
    "plt.show()\n",
    "plt.hist(y_val, bins=bin_edges)\n",
    "plt.xlabel('Class label')\n",
    "plt.ylabel('Count')\n",
    "plt.title('Validation set label distribution')\n",
    "plt.show()"
   ]
  },
  {
   "cell_type": "markdown",
   "metadata": {
    "_uuid": "0a8f9671748f15afbc927417772575edf1b94331"
   },
   "source": [
    "Our figures look correct, and the labels match up with the actual digits.\n",
    "Also, we can see our stratified split has preserved the data distribution.\n",
    "\n",
    "The surprisingly large number of \"2\" digits in our ten sample images (5/10) was just random happenstance."
   ]
  },
  {
   "cell_type": "markdown",
   "metadata": {
    "_uuid": "b532e6997039c7fa7f82ee37bbb932280d723a9e"
   },
   "source": [
    "## Main\n",
    "Based on Pytorch example found here https://github.com/pytorch/examples/blob/master/mnist/main.py"
   ]
  },
  {
   "cell_type": "code",
   "execution_count": 15,
   "metadata": {
    "_uuid": "9bea97c42adab23f9683963b469a3017a6b52431",
    "tags": []
   },
   "outputs": [],
   "source": [
    "import torch.optim as optim\n",
    "from torchvision import datasets, transforms"
   ]
  },
  {
   "cell_type": "code",
   "execution_count": 16,
   "metadata": {
    "_uuid": "6bda0ce5ca76bb81029953dafb040c8d3dd1eda8"
   },
   "outputs": [],
   "source": [
    "from collections import defaultdict\n",
    "import time"
   ]
  },
  {
   "cell_type": "code",
   "execution_count": 68,
   "metadata": {
    "_uuid": "b182017d3890ef5d1435f7b57ed15c72c308c026"
   },
   "outputs": [],
   "source": [
    "class Net(nn.Module):\n",
    "    def __init__(self, activation_fn=None, n_targets=10):\n",
    "        super(Net, self).__init__()\n",
    "        if activation_fn is None:\n",
    "            self.activation_fn = F.relu\n",
    "        else:\n",
    "            self.activation_fn = activation_fn\n",
    "        self.conv1 = nn.Conv2d(1, 10, kernel_size=3)\n",
    "        #self.conv2 = nn.Conv2d(10, 20, kernel_size=3)\n",
    "        #self.conv2_drop = nn.Dropout2d()\n",
    "        self.fc1 = nn.Linear(250, 50)\n",
    "        self.fc2 = nn.Linear(50, n_targets)\n",
    "\n",
    "    def forward(self, x):\n",
    "        #print(x.size())\n",
    "        x = self.activation_fn(F.max_pool2d(self.conv1(x), 2))\n",
    "        print(x.size())\n",
    "        #x = self.activation_fn(F.max_pool2d(self.conv2_drop(self.conv2(x)), 2))\n",
    "        #print(x.size())\n",
    "        x = x.view(-1, 250)\n",
    "        x = self.activation_fn(self.fc1(x))\n",
    "        #print(x.size())\n",
    "        #print(x.size())\n",
    "        #x = F.dropout(x, training=self.training)\n",
    "        #print(x.size())\n",
    "        x = self.fc2(x)\n",
    "        #print(x.size())\n",
    "        #return F.log_softmax(x, dim=1)\n",
    "        return x"
   ]
  },
  {
   "cell_type": "code",
   "execution_count": 69,
   "metadata": {},
   "outputs": [
    {
     "name": "stdout",
     "output_type": "stream",
     "text": [
      "torch.Size([1, 10, 5, 5])\n"
     ]
    }
   ],
   "source": [
    "random_data = torch.rand((1,1,12,12))\n",
    "my_nn = Net()\n",
    "result = my_nn(random_data)"
   ]
  },
  {
   "cell_type": "code",
   "execution_count": 88,
   "metadata": {
    "_uuid": "2399cad58f4329019abca4df728d653d8cd0b2d7"
   },
   "outputs": [],
   "source": [
    "def train(model, device, train_loader, optimizer, epoch, log_interval):\n",
    "    model.train()\n",
    "    train_log = defaultdict(list)\n",
    "    t_log = time.time()\n",
    "    n_samples = 0\n",
    "    for batch_idx, (data, target) in enumerate(train_loader):\n",
    "        t0 = time.time()\n",
    "        data, target = data.to(device), target.to(device).long()\n",
    "        optimizer.zero_grad()\n",
    "        output = model(data)\n",
    "        # Here is our problem. We want to use something like MSELoss\n",
    "        loss = F.cross_entropy(output, target)\n",
    "        t1 = time.time()\n",
    "        loss.backward()\n",
    "        t2 = time.time()\n",
    "        optimizer.step()\n",
    "        t3 = time.time()\n",
    "        n_samples += data.shape[0]\n",
    "        if batch_idx % log_interval == 0:\n",
    "            pred = output.max(1, keepdim=True)[1]\n",
    "            correct = pred.eq(target.view_as(pred)).sum().item()\n",
    "\n",
    "            train_log['n_iter'].append(epoch * len(train_loader) + batch_idx + 1)\n",
    "            train_log['n_samples'].append(n_samples + (epoch - 1) * len(train_loader.dataset))\n",
    "            train_log['loss'].append(loss.detach())\n",
    "            train_log['accuracy'].append(100. * correct / data.shape[0])\n",
    "            train_log['time_batch'].append(t3 - t0)\n",
    "            train_log['time_batch_forward'].append(t1 - t0)\n",
    "            train_log['time_batch_backward'].append(t2 - t1)\n",
    "            train_log['time_batch_update'].append(t3 - t2)\n",
    "            t4 = time.time()\n",
    "            train_log['time_batch_avg'].append((t4 - t_log) / log_interval)\n",
    "            print(\n",
    "                'Train Epoch: {} [{:5d}/{:5d} ({:3.0f}%)]'\n",
    "                '\\tLoss: {:.6f}'\n",
    "                '\\tTime: {:.4f}ms/batch'.format(\n",
    "                    epoch, n_samples, len(train_loader.dataset),\n",
    "                    100. * (batch_idx + 1) / len(train_loader), loss.item(),\n",
    "                    1000 * (t4 - t_log) / log_interval,\n",
    "                )\n",
    "            )\n",
    "            t_log = time.time()\n",
    "    return train_log\n",
    "\n",
    "def test(model, device, test_loader, log_interval):\n",
    "    model.eval()\n",
    "    test_loss = 0\n",
    "    correct = 0\n",
    "    preds = []\n",
    "    targets = []\n",
    "    num_batches = 0\n",
    "    with torch.no_grad():\n",
    "        for data, target in test_loader:\n",
    "            num_batches += 1\n",
    "            data, target = data.to(device), target.to(device).long()\n",
    "            output = model(data)\n",
    "            test_loss += F.cross_entropy(output, target, reduction='sum').item()\n",
    "            pred = output.max(1, keepdim=True)[1] # get the index of the max log-probability\n",
    "            correct += pred.eq(target.view_as(pred)).sum().item()\n",
    "            preds.append(pred.cpu().numpy())\n",
    "            targets.append(target.cpu().numpy())\n",
    "    \n",
    "    # Remove list nesting\n",
    "    preds = np.concatenate(preds).squeeze()\n",
    "    targets = np.concatenate(targets).squeeze()\n",
    "\n",
    "    test_loss /= len(test_loader.dataset)\n",
    "    accuracy = 100. * correct / len(test_loader.dataset)\n",
    "    print('\\nTest set: Average loss: {:.4f}, Accuracy: {}/{} ({:.3f}%)\\n'\n",
    "        ''.format(\n",
    "            test_loss,\n",
    "            correct, len(test_loader.dataset), accuracy,\n",
    "            )\n",
    "        )\n",
    "    return test_loss, accuracy\n",
    "\n",
    "def main(\n",
    "        batch_size=10,\n",
    "        test_batch_size=None,\n",
    "        n_epoch=10,\n",
    "        lr=0.01,\n",
    "        momentum=0.1,\n",
    "        no_cuda=False,\n",
    "        seed=1,\n",
    "        net=Net,\n",
    "        activation_fn=F.relu,\n",
    "        n_targets=10,\n",
    "        log_interval=10,\n",
    "        ):\n",
    "\n",
    "    if test_batch_size is None:\n",
    "        test_batch_size = batch_size\n",
    "\n",
    "    use_cuda = not no_cuda and torch.cuda.is_available()\n",
    "\n",
    "    # For reproducible models\n",
    "    torch.manual_seed(seed)\n",
    "\n",
    "    device = torch.device(\"cuda\" if use_cuda else \"cpu\")\n",
    "\n",
    "    # Simple data loader, without augmentations\n",
    "    # Note that we have a call to expand_dims.\n",
    "    # This is to insert the channel dimension. Conv2D uses NCHW ordering.\n",
    "    train_loader = torch.utils.data.DataLoader(\n",
    "        torch.utils.data.TensorDataset(\n",
    "            torch.Tensor(np.expand_dims(X_train, axis=1)).float(),\n",
    "            torch.Tensor(y_train).long(),\n",
    "        ),\n",
    "        batch_size=batch_size,\n",
    "        shuffle=True,\n",
    "    )\n",
    "    val_loader = torch.utils.data.DataLoader(\n",
    "        torch.utils.data.TensorDataset(\n",
    "            torch.Tensor(np.expand_dims(X_val, axis=1)).float(),\n",
    "            torch.Tensor(y_val).long(),\n",
    "        ),\n",
    "        batch_size=batch_size,\n",
    "        shuffle=True,\n",
    "    )\n",
    "\n",
    "    model = net(activation_fn=activation_fn, n_targets=n_targets).to(device)\n",
    "    optimizer = optim.SGD(model.parameters(), lr=lr, momentum=momentum)\n",
    "\n",
    "    train_log = defaultdict(list)\n",
    "    val_log = defaultdict(list)\n",
    "\n",
    "    for epoch in range(1, n_epoch + 1):\n",
    "        epoch_log = train(model, device, train_loader, optimizer, epoch, log_interval)\n",
    "        for key, value in epoch_log.items():\n",
    "            train_log[key] += value\n",
    "        \n",
    "        val_loss, val_accuracy = test(model, device, val_loader, log_interval)\n",
    "        val_log['loss'].append(val_loss)\n",
    "        val_log['accuracy'].append(val_accuracy)\n",
    "    \n",
    "    return model, train_log, val_log"
   ]
  },
  {
   "cell_type": "code",
   "execution_count": 89,
   "metadata": {
    "_uuid": "0ef768234dc3975214cefc135dacae60c144176a"
   },
   "outputs": [],
   "source": [
    "def collapse_nested_list(l):\n",
    "    return [a for b in l for a in b]\n",
    "\n",
    "def plot_training_log(train_log, val_log):\n",
    "    #xx_train = np.arange(0, len(train_log['loss']), 1 / len(train_log['loss'][0]))\n",
    "    xx_train = np.array(train_log['n_samples']) / 1000\n",
    "    n_epoch = len(val_log['loss'])\n",
    "    xx_val = np.arange(1, n_epoch + 1) * xx_train[-1] / n_epoch\n",
    "    \n",
    "    plt.plot(xx_train, train_log['loss'], 'b')\n",
    "    # We prepend the first train loss score so there are enough datapoints to plot\n",
    "    # a line, even with a single epoch.\n",
    "    plt.plot(np.concatenate([[0], xx_val]), [train_log['loss'][0]] + val_log['loss'], 'ro-')\n",
    "    plt.title('Loss (lower is better)')\n",
    "    plt.xlabel('Number of samples presented (1000s)')\n",
    "    plt.ylabel('Cross-Entropy Loss')\n",
    "    plt.show()\n",
    "    \n",
    "    plt.plot(xx_train, train_log['accuracy'], 'b')\n",
    "    plt.plot(np.concatenate([[0], xx_val]), [train_log['accuracy'][0]] + val_log['accuracy'], 'ro-')\n",
    "    plt.title('Accuracy (higher is better)')\n",
    "    plt.xlabel('Number of samples presented (1000s)')\n",
    "    plt.ylabel('Accuracy (%)')\n",
    "    plt.show()\n",
    "    \n",
    "    \n",
    "    plt.plot(xx_train, 1000 * np.array(train_log['time_batch_avg']), 'b')\n",
    "    plt.title('Training speed (lower is better)')\n",
    "    plt.xlabel('Number of samples presented (1000s)')\n",
    "    plt.ylabel('Duration per batch (ms)')\n",
    "    plt.show()"
   ]
  },
  {
   "cell_type": "code",
   "execution_count": 90,
   "metadata": {
    "_uuid": "410326d31b0b5a91786ad327c101ab4f993a365c",
    "scrolled": true,
    "tags": []
   },
   "outputs": [
    {
     "name": "stdout",
     "output_type": "stream",
     "text": [
      "torch.Size([10, 10, 5, 5])\n"
     ]
    },
    {
     "ename": "RuntimeError",
     "evalue": "Boolean value of Tensor with more than one value is ambiguous",
     "output_type": "error",
     "traceback": [
      "\u001b[0;31m---------------------------------------------------------------------------\u001b[0m",
      "\u001b[0;31mRuntimeError\u001b[0m                              Traceback (most recent call last)",
      "\u001b[0;32m<ipython-input-90-823c4f51402f>\u001b[0m in \u001b[0;36m<module>\u001b[0;34m\u001b[0m\n\u001b[1;32m      1\u001b[0m \u001b[0;31m# Check we can train a single epoch on GPU\u001b[0m\u001b[0;34m\u001b[0m\u001b[0;34m\u001b[0m\u001b[0;34m\u001b[0m\u001b[0m\n\u001b[1;32m      2\u001b[0m \u001b[0mt0\u001b[0m \u001b[0;34m=\u001b[0m \u001b[0mtime\u001b[0m\u001b[0;34m.\u001b[0m\u001b[0mtime\u001b[0m\u001b[0;34m(\u001b[0m\u001b[0;34m)\u001b[0m\u001b[0;34m\u001b[0m\u001b[0;34m\u001b[0m\u001b[0m\n\u001b[0;32m----> 3\u001b[0;31m \u001b[0mmodel\u001b[0m\u001b[0;34m,\u001b[0m \u001b[0mtrain_log\u001b[0m\u001b[0;34m,\u001b[0m \u001b[0mval_log\u001b[0m \u001b[0;34m=\u001b[0m \u001b[0mmain\u001b[0m\u001b[0;34m(\u001b[0m\u001b[0mno_cuda\u001b[0m\u001b[0;34m=\u001b[0m\u001b[0;32mFalse\u001b[0m\u001b[0;34m,\u001b[0m \u001b[0mn_epoch\u001b[0m\u001b[0;34m=\u001b[0m\u001b[0;36m10\u001b[0m\u001b[0;34m)\u001b[0m\u001b[0;34m\u001b[0m\u001b[0;34m\u001b[0m\u001b[0m\n\u001b[0m\u001b[1;32m      4\u001b[0m \u001b[0mt1\u001b[0m \u001b[0;34m=\u001b[0m \u001b[0mtime\u001b[0m\u001b[0;34m.\u001b[0m\u001b[0mtime\u001b[0m\u001b[0;34m(\u001b[0m\u001b[0;34m)\u001b[0m\u001b[0;34m\u001b[0m\u001b[0;34m\u001b[0m\u001b[0m\n\u001b[1;32m      5\u001b[0m \u001b[0mprint\u001b[0m\u001b[0;34m(\u001b[0m\u001b[0;34m'Training completed in {} seconds.'\u001b[0m\u001b[0;34m.\u001b[0m\u001b[0mformat\u001b[0m\u001b[0;34m(\u001b[0m\u001b[0mt1\u001b[0m \u001b[0;34m-\u001b[0m \u001b[0mt0\u001b[0m\u001b[0;34m)\u001b[0m\u001b[0;34m)\u001b[0m\u001b[0;34m\u001b[0m\u001b[0;34m\u001b[0m\u001b[0m\n",
      "\u001b[0;32m<ipython-input-88-f1dce6a68ee0>\u001b[0m in \u001b[0;36mmain\u001b[0;34m(batch_size, test_batch_size, n_epoch, lr, momentum, no_cuda, seed, net, activation_fn, n_targets, log_interval)\u001b[0m\n\u001b[1;32m    126\u001b[0m \u001b[0;34m\u001b[0m\u001b[0m\n\u001b[1;32m    127\u001b[0m     \u001b[0;32mfor\u001b[0m \u001b[0mepoch\u001b[0m \u001b[0;32min\u001b[0m \u001b[0mrange\u001b[0m\u001b[0;34m(\u001b[0m\u001b[0;36m1\u001b[0m\u001b[0;34m,\u001b[0m \u001b[0mn_epoch\u001b[0m \u001b[0;34m+\u001b[0m \u001b[0;36m1\u001b[0m\u001b[0;34m)\u001b[0m\u001b[0;34m:\u001b[0m\u001b[0;34m\u001b[0m\u001b[0;34m\u001b[0m\u001b[0m\n\u001b[0;32m--> 128\u001b[0;31m         \u001b[0mepoch_log\u001b[0m \u001b[0;34m=\u001b[0m \u001b[0mtrain\u001b[0m\u001b[0;34m(\u001b[0m\u001b[0mmodel\u001b[0m\u001b[0;34m,\u001b[0m \u001b[0mdevice\u001b[0m\u001b[0;34m,\u001b[0m \u001b[0mtrain_loader\u001b[0m\u001b[0;34m,\u001b[0m \u001b[0moptimizer\u001b[0m\u001b[0;34m,\u001b[0m \u001b[0mepoch\u001b[0m\u001b[0;34m,\u001b[0m \u001b[0mlog_interval\u001b[0m\u001b[0;34m)\u001b[0m\u001b[0;34m\u001b[0m\u001b[0;34m\u001b[0m\u001b[0m\n\u001b[0m\u001b[1;32m    129\u001b[0m         \u001b[0;32mfor\u001b[0m \u001b[0mkey\u001b[0m\u001b[0;34m,\u001b[0m \u001b[0mvalue\u001b[0m \u001b[0;32min\u001b[0m \u001b[0mepoch_log\u001b[0m\u001b[0;34m.\u001b[0m\u001b[0mitems\u001b[0m\u001b[0;34m(\u001b[0m\u001b[0;34m)\u001b[0m\u001b[0;34m:\u001b[0m\u001b[0;34m\u001b[0m\u001b[0;34m\u001b[0m\u001b[0m\n\u001b[1;32m    130\u001b[0m             \u001b[0mtrain_log\u001b[0m\u001b[0;34m[\u001b[0m\u001b[0mkey\u001b[0m\u001b[0;34m]\u001b[0m \u001b[0;34m+=\u001b[0m \u001b[0mvalue\u001b[0m\u001b[0;34m\u001b[0m\u001b[0;34m\u001b[0m\u001b[0m\n",
      "\u001b[0;32m<ipython-input-88-f1dce6a68ee0>\u001b[0m in \u001b[0;36mtrain\u001b[0;34m(model, device, train_loader, optimizer, epoch, log_interval)\u001b[0m\n\u001b[1;32m     10\u001b[0m         \u001b[0moutput\u001b[0m \u001b[0;34m=\u001b[0m \u001b[0mmodel\u001b[0m\u001b[0;34m(\u001b[0m\u001b[0mdata\u001b[0m\u001b[0;34m)\u001b[0m\u001b[0;34m\u001b[0m\u001b[0;34m\u001b[0m\u001b[0m\n\u001b[1;32m     11\u001b[0m         \u001b[0;31m# Here is our problem. We want to use something like MSELoss\u001b[0m\u001b[0;34m\u001b[0m\u001b[0;34m\u001b[0m\u001b[0;34m\u001b[0m\u001b[0m\n\u001b[0;32m---> 12\u001b[0;31m         \u001b[0mloss\u001b[0m \u001b[0;34m=\u001b[0m \u001b[0mnn\u001b[0m\u001b[0;34m.\u001b[0m\u001b[0mMSELoss\u001b[0m\u001b[0;34m(\u001b[0m\u001b[0moutput\u001b[0m\u001b[0;34m,\u001b[0m \u001b[0mtarget\u001b[0m\u001b[0;34m)\u001b[0m\u001b[0;34m\u001b[0m\u001b[0;34m\u001b[0m\u001b[0m\n\u001b[0m\u001b[1;32m     13\u001b[0m         \u001b[0mt1\u001b[0m \u001b[0;34m=\u001b[0m \u001b[0mtime\u001b[0m\u001b[0;34m.\u001b[0m\u001b[0mtime\u001b[0m\u001b[0;34m(\u001b[0m\u001b[0;34m)\u001b[0m\u001b[0;34m\u001b[0m\u001b[0;34m\u001b[0m\u001b[0m\n\u001b[1;32m     14\u001b[0m         \u001b[0mloss\u001b[0m\u001b[0;34m.\u001b[0m\u001b[0mbackward\u001b[0m\u001b[0;34m(\u001b[0m\u001b[0;34m)\u001b[0m\u001b[0;34m\u001b[0m\u001b[0;34m\u001b[0m\u001b[0m\n",
      "\u001b[0;32m~/anaconda3/envs/pytorch-stable/lib/python3.8/site-packages/torch/nn/modules/loss.py\u001b[0m in \u001b[0;36m__init__\u001b[0;34m(self, size_average, reduce, reduction)\u001b[0m\n\u001b[1;32m    523\u001b[0m \u001b[0;34m\u001b[0m\u001b[0m\n\u001b[1;32m    524\u001b[0m     \u001b[0;32mdef\u001b[0m \u001b[0m__init__\u001b[0m\u001b[0;34m(\u001b[0m\u001b[0mself\u001b[0m\u001b[0;34m,\u001b[0m \u001b[0msize_average\u001b[0m\u001b[0;34m=\u001b[0m\u001b[0;32mNone\u001b[0m\u001b[0;34m,\u001b[0m \u001b[0mreduce\u001b[0m\u001b[0;34m=\u001b[0m\u001b[0;32mNone\u001b[0m\u001b[0;34m,\u001b[0m \u001b[0mreduction\u001b[0m\u001b[0;34m:\u001b[0m \u001b[0mstr\u001b[0m \u001b[0;34m=\u001b[0m \u001b[0;34m'mean'\u001b[0m\u001b[0;34m)\u001b[0m \u001b[0;34m->\u001b[0m \u001b[0;32mNone\u001b[0m\u001b[0;34m:\u001b[0m\u001b[0;34m\u001b[0m\u001b[0;34m\u001b[0m\u001b[0m\n\u001b[0;32m--> 525\u001b[0;31m         \u001b[0msuper\u001b[0m\u001b[0;34m(\u001b[0m\u001b[0mMSELoss\u001b[0m\u001b[0;34m,\u001b[0m \u001b[0mself\u001b[0m\u001b[0;34m)\u001b[0m\u001b[0;34m.\u001b[0m\u001b[0m__init__\u001b[0m\u001b[0;34m(\u001b[0m\u001b[0msize_average\u001b[0m\u001b[0;34m,\u001b[0m \u001b[0mreduce\u001b[0m\u001b[0;34m,\u001b[0m \u001b[0mreduction\u001b[0m\u001b[0;34m)\u001b[0m\u001b[0;34m\u001b[0m\u001b[0;34m\u001b[0m\u001b[0m\n\u001b[0m\u001b[1;32m    526\u001b[0m \u001b[0;34m\u001b[0m\u001b[0m\n\u001b[1;32m    527\u001b[0m     \u001b[0;32mdef\u001b[0m \u001b[0mforward\u001b[0m\u001b[0;34m(\u001b[0m\u001b[0mself\u001b[0m\u001b[0;34m,\u001b[0m \u001b[0minput\u001b[0m\u001b[0;34m:\u001b[0m \u001b[0mTensor\u001b[0m\u001b[0;34m,\u001b[0m \u001b[0mtarget\u001b[0m\u001b[0;34m:\u001b[0m \u001b[0mTensor\u001b[0m\u001b[0;34m)\u001b[0m \u001b[0;34m->\u001b[0m \u001b[0mTensor\u001b[0m\u001b[0;34m:\u001b[0m\u001b[0;34m\u001b[0m\u001b[0;34m\u001b[0m\u001b[0m\n",
      "\u001b[0;32m~/anaconda3/envs/pytorch-stable/lib/python3.8/site-packages/torch/nn/modules/loss.py\u001b[0m in \u001b[0;36m__init__\u001b[0;34m(self, size_average, reduce, reduction)\u001b[0m\n\u001b[1;32m     16\u001b[0m         \u001b[0msuper\u001b[0m\u001b[0;34m(\u001b[0m\u001b[0m_Loss\u001b[0m\u001b[0;34m,\u001b[0m \u001b[0mself\u001b[0m\u001b[0;34m)\u001b[0m\u001b[0;34m.\u001b[0m\u001b[0m__init__\u001b[0m\u001b[0;34m(\u001b[0m\u001b[0;34m)\u001b[0m\u001b[0;34m\u001b[0m\u001b[0;34m\u001b[0m\u001b[0m\n\u001b[1;32m     17\u001b[0m         \u001b[0;32mif\u001b[0m \u001b[0msize_average\u001b[0m \u001b[0;32mis\u001b[0m \u001b[0;32mnot\u001b[0m \u001b[0;32mNone\u001b[0m \u001b[0;32mor\u001b[0m \u001b[0mreduce\u001b[0m \u001b[0;32mis\u001b[0m \u001b[0;32mnot\u001b[0m \u001b[0;32mNone\u001b[0m\u001b[0;34m:\u001b[0m\u001b[0;34m\u001b[0m\u001b[0;34m\u001b[0m\u001b[0m\n\u001b[0;32m---> 18\u001b[0;31m             \u001b[0mself\u001b[0m\u001b[0;34m.\u001b[0m\u001b[0mreduction\u001b[0m \u001b[0;34m=\u001b[0m \u001b[0m_Reduction\u001b[0m\u001b[0;34m.\u001b[0m\u001b[0mlegacy_get_string\u001b[0m\u001b[0;34m(\u001b[0m\u001b[0msize_average\u001b[0m\u001b[0;34m,\u001b[0m \u001b[0mreduce\u001b[0m\u001b[0;34m)\u001b[0m\u001b[0;34m\u001b[0m\u001b[0;34m\u001b[0m\u001b[0m\n\u001b[0m\u001b[1;32m     19\u001b[0m         \u001b[0;32melse\u001b[0m\u001b[0;34m:\u001b[0m\u001b[0;34m\u001b[0m\u001b[0;34m\u001b[0m\u001b[0m\n\u001b[1;32m     20\u001b[0m             \u001b[0mself\u001b[0m\u001b[0;34m.\u001b[0m\u001b[0mreduction\u001b[0m \u001b[0;34m=\u001b[0m \u001b[0mreduction\u001b[0m\u001b[0;34m\u001b[0m\u001b[0;34m\u001b[0m\u001b[0m\n",
      "\u001b[0;32m~/anaconda3/envs/pytorch-stable/lib/python3.8/site-packages/torch/nn/_reduction.py\u001b[0m in \u001b[0;36mlegacy_get_string\u001b[0;34m(size_average, reduce, emit_warning)\u001b[0m\n\u001b[1;32m     33\u001b[0m         \u001b[0mreduce\u001b[0m \u001b[0;34m=\u001b[0m \u001b[0;32mTrue\u001b[0m\u001b[0;34m\u001b[0m\u001b[0;34m\u001b[0m\u001b[0m\n\u001b[1;32m     34\u001b[0m \u001b[0;34m\u001b[0m\u001b[0m\n\u001b[0;32m---> 35\u001b[0;31m     \u001b[0;32mif\u001b[0m \u001b[0msize_average\u001b[0m \u001b[0;32mand\u001b[0m \u001b[0mreduce\u001b[0m\u001b[0;34m:\u001b[0m\u001b[0;34m\u001b[0m\u001b[0;34m\u001b[0m\u001b[0m\n\u001b[0m\u001b[1;32m     36\u001b[0m         \u001b[0mret\u001b[0m \u001b[0;34m=\u001b[0m \u001b[0;34m'mean'\u001b[0m\u001b[0;34m\u001b[0m\u001b[0;34m\u001b[0m\u001b[0m\n\u001b[1;32m     37\u001b[0m     \u001b[0;32melif\u001b[0m \u001b[0mreduce\u001b[0m\u001b[0;34m:\u001b[0m\u001b[0;34m\u001b[0m\u001b[0;34m\u001b[0m\u001b[0m\n",
      "\u001b[0;31mRuntimeError\u001b[0m: Boolean value of Tensor with more than one value is ambiguous"
     ]
    }
   ],
   "source": [
    "# Check we can train a single epoch on GPU\n",
    "t0 = time.time()\n",
    "model, train_log, val_log = main(no_cuda=False, n_epoch=10)\n",
    "t1 = time.time()\n",
    "print('Training completed in {} seconds.'.format(t1 - t0))\n",
    "plot_training_log(train_log, val_log)"
   ]
  },
  {
   "cell_type": "code",
   "execution_count": 41,
   "metadata": {
    "_uuid": "96f1f124101f60b72c54df5ad3aea2a96f989832",
    "scrolled": true
   },
   "outputs": [
    {
     "name": "stdout",
     "output_type": "stream",
     "text": [
      "Train Epoch: 1 [   64/ 1607 (  4%)]\tLoss: 2.304893\tTime: 0.1091ms/batch\n",
      "Train Epoch: 1 [  704/ 1607 ( 42%)]\tLoss: 2.200757\tTime: 0.8187ms/batch\n",
      "Train Epoch: 1 [ 1344/ 1607 ( 81%)]\tLoss: 2.225110\tTime: 0.8157ms/batch\n",
      "\n",
      "Test set: Average loss: 2.1931, Accuracy: 146/689 (21.190%)\n",
      "\n",
      "Training completed in 0.028697729110717773 seconds.\n"
     ]
    },
    {
     "data": {
      "image/png": "[encoded data removed]",
      "text/plain": [
       "<Figure size 432x288 with 1 Axes>"
      ]
     },
     "metadata": {
      "needs_background": "light"
     },
     "output_type": "display_data"
    },
    {
     "data": {
      "image/png": "[encoded data removed]",
      "text/plain": [
       "<Figure size 432x288 with 1 Axes>"
      ]
     },
     "metadata": {
      "needs_background": "light"
     },
     "output_type": "display_data"
    },
    {
     "data": {
      "image/png": "[encoded data removed]",
      "text/plain": [
       "<Figure size 432x288 with 1 Axes>"
      ]
     },
     "metadata": {
      "needs_background": "light"
     },
     "output_type": "display_data"
    }
   ],
   "source": [
    "# Try on CPU to compare compute time\n",
    "t0 = time.time()\n",
    "model, train_log, val_log = main(no_cuda=True, n_epoch=1)\n",
    "t1 = time.time()\n",
    "print('Training completed in {} seconds.'.format(t1 - t0))\n",
    "plot_training_log(train_log, val_log)"
   ]
  },
  {
   "cell_type": "markdown",
   "metadata": {
    "_uuid": "838b12c235ee52f605c221799af529d7f84475da"
   },
   "source": [
    "We can see that the GPU is, overall, maybe about 4-5x faster than CPU (2.2-4.5 seconds vs 12 seconds). This is less than we would expect from prior knowledge of GPU speed-ups and our training time per batch plots (3ms/batch vs 19ms/batch). Presumably part of the reason it is slower is because there an overhead in setting up the model on the GPU.\n",
    "\n",
    "Also, it should be noted that Kaggle gives you less CPU power when you are working on a GPU-enabled notebook. If you were working on a CPU-only notebook, it would be around 9 seconds to run a single epoch (only 75% of the CPU time we observed here)."
   ]
  },
  {
   "cell_type": "markdown",
   "metadata": {
    "_uuid": "acef6db6bc4b4246314611a5b117a483e10f0d05"
   },
   "source": [
    "Inspect the structure of our model"
   ]
  },
  {
   "cell_type": "code",
   "execution_count": null,
   "metadata": {
    "_uuid": "dc605f48cf9a961a6ce17af75b0217fd488515e5"
   },
   "outputs": [],
   "source": [
    "print(model)"
   ]
  },
  {
   "cell_type": "code",
   "execution_count": null,
   "metadata": {
    "_uuid": "f04b4941aabcdd059c7fc3bc4bebd090e6581592"
   },
   "outputs": [],
   "source": [
    "try:\n",
    "    import torchsummary\n",
    "    torchsummary.summary(model)\n",
    "except ImportError:\n",
    "    print('The torchsummary package is not available.')"
   ]
  },
  {
   "cell_type": "markdown",
   "metadata": {
    "_uuid": "685600183e8182771eaf0b4688c8d7413626b04b"
   },
   "source": [
    "Check how many parameters our model has."
   ]
  },
  {
   "cell_type": "code",
   "execution_count": null,
   "metadata": {
    "_uuid": "42088d972256eaebcb1db2346bc674deca640eb0"
   },
   "outputs": [],
   "source": [
    "def count_parameters(model, only_trainable=True):\n",
    "    if only_trainable:\n",
    "        return sum(p.numel() for p in model.parameters() if p.requires_grad)\n",
    "    else:\n",
    "        return sum(p.numel() for p in model.parameters())"
   ]
  },
  {
   "cell_type": "code",
   "execution_count": 44,
   "metadata": {
    "_uuid": "f0cdc53810049d91f4fea64b68e2632436cd7ff7"
   },
   "outputs": [
    {
     "ename": "NameError",
     "evalue": "name 'count_parameters' is not defined",
     "output_type": "error",
     "traceback": [
      "\u001b[0;31m---------------------------------------------------------------------------\u001b[0m",
      "\u001b[0;31mNameError\u001b[0m                                 Traceback (most recent call last)",
      "\u001b[0;32m<ipython-input-44-e6eb9d346150>\u001b[0m in \u001b[0;36m<module>\u001b[0;34m\u001b[0m\n\u001b[0;32m----> 1\u001b[0;31m \u001b[0mprint\u001b[0m\u001b[0;34m(\u001b[0m\u001b[0;34m'Total params    : {}'\u001b[0m\u001b[0;34m.\u001b[0m\u001b[0mformat\u001b[0m\u001b[0;34m(\u001b[0m\u001b[0mcount_parameters\u001b[0m\u001b[0;34m(\u001b[0m\u001b[0mmodel\u001b[0m\u001b[0;34m,\u001b[0m \u001b[0;32mFalse\u001b[0m\u001b[0;34m)\u001b[0m\u001b[0;34m)\u001b[0m\u001b[0;34m)\u001b[0m\u001b[0;34m\u001b[0m\u001b[0;34m\u001b[0m\u001b[0m\n\u001b[0m\u001b[1;32m      2\u001b[0m \u001b[0mprint\u001b[0m\u001b[0;34m(\u001b[0m\u001b[0;34m'Trainable params: {}'\u001b[0m\u001b[0;34m.\u001b[0m\u001b[0mformat\u001b[0m\u001b[0;34m(\u001b[0m\u001b[0mcount_parameters\u001b[0m\u001b[0;34m(\u001b[0m\u001b[0mmodel\u001b[0m\u001b[0;34m,\u001b[0m \u001b[0;32mTrue\u001b[0m\u001b[0;34m)\u001b[0m\u001b[0;34m)\u001b[0m\u001b[0;34m)\u001b[0m\u001b[0;34m\u001b[0m\u001b[0;34m\u001b[0m\u001b[0m\n",
      "\u001b[0;31mNameError\u001b[0m: name 'count_parameters' is not defined"
     ]
    }
   ],
   "source": [
    "print('Total params    : {}'.format(count_parameters(model, False)))\n",
    "print('Trainable params: {}'.format(count_parameters(model, True)))"
   ]
  },
  {
   "cell_type": "markdown",
   "metadata": {
    "_uuid": "f24600d4d1b096ff20d853f5db7886283ce28bfe"
   },
   "source": [
    "## Make predictions"
   ]
  },
  {
   "cell_type": "code",
   "execution_count": 45,
   "metadata": {
    "_uuid": "c1be5d849a999f4f9b99d7e1af53286eb549ee34"
   },
   "outputs": [],
   "source": [
    "test_loader = torch.utils.data.DataLoader(\n",
    "    torch.utils.data.TensorDataset(\n",
    "        torch.Tensor(np.expand_dims(X_test, axis=1)).float(),\n",
    "    ),\n",
    "    batch_size=64,\n",
    "    shuffle=False,\n",
    ")"
   ]
  },
  {
   "cell_type": "markdown",
   "metadata": {
    "_uuid": "4443250d2ba01d4eb7283de08935300aa00da1c2"
   },
   "source": [
    "If the model is on the GPU, we have to transfer the data to the GPU to run it through the model. We aren't in `main()` any more, so we try to work out where the model is. Unfortunately there isn't a function we can call to check for sure.\n",
    "\n",
    "You could alternatively move the model to the CPU with `model.cpu()` and then do the prediction step on the CPU, then we'd definitely know where it is."
   ]
  },
  {
   "cell_type": "code",
   "execution_count": 46,
   "metadata": {
    "_uuid": "9ee8c05e59b6444d008bfed278d7094b0d4c34ba"
   },
   "outputs": [],
   "source": [
    "def predict(model, test_loader, device=None):\n",
    "    if device is None:\n",
    "        device = torch.device(\"cuda\" if torch.cuda.is_available else \"cpu\")\n",
    "    elif isinstance(device, str):\n",
    "        device = torch.device(device)\n",
    "    model.eval()\n",
    "    preds = []\n",
    "    with torch.no_grad():\n",
    "        for data, in test_loader:\n",
    "            data = data.to(device)\n",
    "            output = model(data)\n",
    "            pred = output.max(1, keepdim=True)[1]\n",
    "            preds.append(pred.cpu().numpy())\n",
    "    # Remove list nesting\n",
    "    preds = np.concatenate(preds).squeeze()\n",
    "    return preds"
   ]
  },
  {
   "cell_type": "markdown",
   "metadata": {
    "_uuid": "659e434980d5f3a5eabca7c14dd8633956214655"
   },
   "source": [
    "Note that in the function `predict`, we are inferring the device that the model is on by assuming `no_cuda` was set to `False`. If you forced the model to run on the CPU earlier, you'll get an error at this step. You can fix that by `preds = predict(model, test_loader, 'cpu')`."
   ]
  },
  {
   "cell_type": "code",
   "execution_count": 47,
   "metadata": {
    "_uuid": "3df2c4b778d3ae69b78088f7390930517f1ab1c0"
   },
   "outputs": [],
   "source": [
    "preds = predict(model, test_loader)"
   ]
  },
  {
   "cell_type": "code",
   "execution_count": 48,
   "metadata": {
    "_uuid": "882deef98a3b49b5c4fab57ce2f89c4ac933f1d5"
   },
   "outputs": [
    {
     "data": {
      "text/plain": [
       "(984,)"
      ]
     },
     "execution_count": 48,
     "metadata": {},
     "output_type": "execute_result"
    }
   ],
   "source": [
    "preds.shape"
   ]
  },
  {
   "cell_type": "code",
   "execution_count": 49,
   "metadata": {
    "_uuid": "6e636b9ff512deccc43d40fac17c2fa8520c9a75"
   },
   "outputs": [],
   "source": [
    "out_df = pd.DataFrame(\n",
    "    {'ImageId': np.arange(1, preds.shape[0] + 1),\n",
    "     'Label': preds}\n",
    ")"
   ]
  },
  {
   "cell_type": "markdown",
   "metadata": {
    "_uuid": "cedce4c0cea55bf5b9f48c6bf0ae9ad9130c570b"
   },
   "source": [
    "Write output to CSV file."
   ]
  },
  {
   "cell_type": "code",
   "execution_count": 50,
   "metadata": {
    "_uuid": "cf013bdd452677b831b3ccfa7dc1af4fca9a811a"
   },
   "outputs": [],
   "source": [
    "out_df.to_csv('submission.csv', index=False)"
   ]
  },
  {
   "cell_type": "markdown",
   "metadata": {
    "_uuid": "55832686fc2563752c1332baafca94e79c47dd90"
   },
   "source": [
    "Check file looks okay - columns are correct way around, etc."
   ]
  },
  {
   "cell_type": "code",
   "execution_count": null,
   "metadata": {
    "_uuid": "13d505159d5af3426bc10dd77cb633bd81116137"
   },
   "outputs": [],
   "source": [
    "!head submission.csv"
   ]
  },
  {
   "cell_type": "markdown",
   "metadata": {
    "_uuid": "46d81a75bd44d3778f22c618f4a42c3635d65620"
   },
   "source": [
    "We expect to get a performance similar to the validation score of 96.9%, and we actually get 96.2%."
   ]
  },
  {
   "cell_type": "markdown",
   "metadata": {
    "_uuid": "619bc6be7ae2525346a80996d6b1dacaed2fb852"
   },
   "source": [
    "## Next steps\n",
    "This notebook will get you set up with building MNIST models using Pytorch on the GPU provided by Kaggle. We trained a small model for only 10 epochs (with the actual model training itself taking under 20 seconds). The result isn't a particularly good model! It is very easy to build on this model and improve it, but this notebook should give you a good starting point to do that. Feel free to fork it and adapt it, and try out new things."
   ]
  }
 ],
 "metadata": {
  "kernelspec": {
   "display_name": "Python 3",
   "language": "python",
   "name": "python3"
  },
  "language_info": {
   "codemirror_mode": {
    "name": "ipython",
    "version": 3
   },
   "file_extension": ".py",
   "mimetype": "text/x-python",
   "name": "python",
   "nbconvert_exporter": "python",
   "pygments_lexer": "ipython3",
   "version": "3.8.8"
  }
 },
 "nbformat": 4,
 "nbformat_minor": 4
}
