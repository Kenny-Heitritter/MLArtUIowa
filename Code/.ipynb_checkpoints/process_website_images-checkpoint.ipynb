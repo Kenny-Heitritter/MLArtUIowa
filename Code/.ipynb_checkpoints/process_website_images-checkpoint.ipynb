{
 "cells": [
  {
   "cell_type": "code",
   "execution_count": null,
   "metadata": {},
   "outputs": [],
   "source": [
    "# Take the 50 randomline images and process them into a useable 12x12 pixel\n",
    "#    format. The 12x12 images are then saved as labeled csvs.\n"
   ]
  },
  {
   "cell_type": "code",
   "execution_count": 1,
   "metadata": {
    "pycharm": {
     "is_executing": false
    }
   },
   "outputs": [],
   "source": [
    "%matplotlib inline\n",
    "import numpy as np\n",
    "import matplotlib as mpl\n",
    "import matplotlib.pyplot as plt\n",
    "import scipy.misc\n",
    "import imageio\n",
    "import cv2\n",
    "from PIL import Image\n",
    "import sys\n",
    "import os\n",
    "import csv\n",
    "import pickle\n",
    "from sklearn.preprocessing import OneHotEncoder\n",
    "datapath = \"/home/kenny/Dropbox/Machine_Learning_Art_Project_2019-2020/\" #HomeDesktop\n",
    "#datapath = \"/Users/k/Dropbox/Machine_Learning_Art_Project_2019-2020/\"   #MacbookPro"
   ]
  },
  {
   "cell_type": "code",
   "execution_count": 3,
   "metadata": {},
   "outputs": [],
   "source": [
    "#Crop out the white space in the 50 png files from the website\n",
    "left = 112\n",
    "top = 34\n",
    "right = 331\n",
    "bottom = 253\n",
    "unique_names = np.array([\"yim\" + str(i) + \".png\" for i in range(50)])  #Website Data\n",
    "for name in unique_names:\n",
    "    img = Image.open(datapath + \"Website_Data/images/\" + name)\n",
    "    cropped_img = img.crop((left, top, right, bottom)) \n",
    "    cropped_img.save(datapath + \"Website_Data/images/cropped\" + name)\n",
    "    "
   ]
  },
  {
   "cell_type": "code",
   "execution_count": 4,
   "metadata": {},
   "outputs": [
    {
     "ename": "error",
     "evalue": "OpenCV(4.1.2) /io/opencv/modules/imgproc/src/resize.cpp:3720: error: (-215:Assertion failed) !ssize.empty() in function 'resize'\n",
     "output_type": "error",
     "traceback": [
      "\u001b[0;31m---------------------------------------------------------------------------\u001b[0m",
      "\u001b[0;31merror\u001b[0m                                     Traceback (most recent call last)",
      "\u001b[0;32m<ipython-input-4-f0747c299229>\u001b[0m in \u001b[0;36m<module>\u001b[0;34m\u001b[0m\n\u001b[1;32m      2\u001b[0m \u001b[0;32mfor\u001b[0m \u001b[0mname\u001b[0m \u001b[0;32min\u001b[0m \u001b[0munique_names\u001b[0m\u001b[0;34m:\u001b[0m\u001b[0;34m\u001b[0m\u001b[0;34m\u001b[0m\u001b[0m\n\u001b[1;32m      3\u001b[0m     \u001b[0mimg\u001b[0m \u001b[0;34m=\u001b[0m \u001b[0mcv2\u001b[0m\u001b[0;34m.\u001b[0m\u001b[0mimread\u001b[0m\u001b[0;34m(\u001b[0m\u001b[0mdatapath\u001b[0m \u001b[0;34m+\u001b[0m \u001b[0;34m\"Website_data/images/cropped\"\u001b[0m \u001b[0;34m+\u001b[0m \u001b[0mname\u001b[0m\u001b[0;34m,\u001b[0m \u001b[0mcv2\u001b[0m\u001b[0;34m.\u001b[0m\u001b[0mIMREAD_UNCHANGED\u001b[0m\u001b[0;34m)\u001b[0m\u001b[0;34m\u001b[0m\u001b[0;34m\u001b[0m\u001b[0m\n\u001b[0;32m----> 4\u001b[0;31m     \u001b[0mresized_img\u001b[0m \u001b[0;34m=\u001b[0m \u001b[0mcv2\u001b[0m\u001b[0;34m.\u001b[0m\u001b[0mresize\u001b[0m\u001b[0;34m(\u001b[0m\u001b[0mimg\u001b[0m\u001b[0;34m,\u001b[0m \u001b[0;34m(\u001b[0m\u001b[0;36m12\u001b[0m\u001b[0;34m,\u001b[0m \u001b[0;36m12\u001b[0m\u001b[0;34m)\u001b[0m\u001b[0;34m)\u001b[0m\u001b[0;34m\u001b[0m\u001b[0;34m\u001b[0m\u001b[0m\n\u001b[0m\u001b[1;32m      5\u001b[0m     \u001b[0mcv2\u001b[0m\u001b[0;34m.\u001b[0m\u001b[0mimwrite\u001b[0m\u001b[0;34m(\u001b[0m\u001b[0mdatapath\u001b[0m \u001b[0;34m+\u001b[0m \u001b[0;34m\"Data/processed_randomline_images/\"\u001b[0m \u001b[0;34m+\u001b[0m \u001b[0mname\u001b[0m\u001b[0;34m,\u001b[0m \u001b[0mresized_img\u001b[0m\u001b[0;34m)\u001b[0m\u001b[0;34m\u001b[0m\u001b[0;34m\u001b[0m\u001b[0m\n",
      "\u001b[0;31merror\u001b[0m: OpenCV(4.1.2) /io/opencv/modules/imgproc/src/resize.cpp:3720: error: (-215:Assertion failed) !ssize.empty() in function 'resize'\n"
     ]
    }
   ],
   "source": [
    "# Resize images to 12x12 pixels\n",
    "for name in unique_names:\n",
    "    img = cv2.imread(datapath + \"Website_data/images/cropped\" + name, cv2.IMREAD_UNCHANGED)\n",
    "    resized_img = cv2.resize(img, (12, 12))\n",
    "    cv2.imwrite(datapath + \"Data/processed_randomline_images/\" + name, resized_img)\n"
   ]
  },
  {
   "cell_type": "code",
   "execution_count": 47,
   "metadata": {},
   "outputs": [],
   "source": [
    "# Create csv where the each row is a different image. The first 144 columns\n",
    "#  are pixel values and the last column is the image number (from 0 - 49)\n",
    "format = '.png'\n",
    "fileList = []\n",
    "#print(myDir)\n",
    "#for root, dirs, files in os.walk(datapath + \"Data/processed_randomline_images/\", topdown=False):\n",
    "for root, dirs, files in os.walk(datapath + \"Code/randomlinegen_archive/processed/\", topdown=False):\n",
    "    for name in sorted(files):\n",
    "        if name.endswith(format):\n",
    "            fullName = os.path.join(root, name)\n",
    "            fileList.append(fullName)\n",
    "\n",
    "for file in fileList:\n",
    "    #print(file)\n",
    "    img_file = Image.open(file)\n",
    "    # img_file.show()\n",
    "\n",
    "    # get original image parameters...\n",
    "    width, height = img_file.size\n",
    "    format = img_file.format\n",
    "    mode = img_file.mode\n",
    "\n",
    "    # Make image Greyscale\n",
    "    img_grey = img_file.convert('L')\n",
    "    #img_grey.save('result.png')\n",
    "    #img_grey.show()\n",
    "    \n",
    "    # Save Greyscale values\n",
    "    value = np.asarray(img_grey.getdata(), dtype=np.int).reshape((img_grey.size[1], img_grey.size[0]))\n",
    "    value = value.flatten()\n",
    "    # print(value)\n",
    "    #with open(datapath + \"Data/imgpixels_label.csv\", 'a') as f:\n",
    "    with open(datapath + \"Code/imgpixels_label.csv\", 'a') as f:\n",
    "        writer = csv.writer(f)\n",
    "        writer.writerow(np.append(value,int(file[95:-4]))) # starting index must be 92 for MacbookPro and 95 for HomeDesktop"
   ]
  },
  {
   "cell_type": "code",
   "execution_count": 2,
   "metadata": {},
   "outputs": [],
   "source": [
    "# Read website grade data and create a csv where the first column is the img number and the\n",
    "#  second column is the user-assigned grade\n",
    "with open(datapath + \"Data/website_image_grades.csv\", \"r\") as f:\n",
    "    reader = csv.reader(f, delimiter=',')\n",
    "    headers = next(reader)\n",
    "    data = list(reader)\n",
    "    data = np.array(data)\n",
    "    \n",
    "image_names = data[:,1]\n",
    "image_grades = data[:,2]\n",
    "\n",
    "for i in range(len(image_names)):\n",
    "    with open(datapath + \"Data/label_grade.csv\", 'a') as f:\n",
    "        writer = csv.writer(f)\n",
    "        writer.writerow([int(image_names[i][3:-4]),int(image_grades[i])])"
   ]
  },
  {
   "cell_type": "code",
   "execution_count": 3,
   "metadata": {},
   "outputs": [],
   "source": [
    "# Load data\n",
    "imgpixels_label = np.loadtxt(datapath + \"Data/imgpixels_label.csv\", \n",
    "                        delimiter=\",\")\n",
    "label_grade = np.loadtxt(datapath + \"Data/label_grade.csv\", \n",
    "                        delimiter=\",\")\n",
    "# Create array of user-submitted data with structure (label[0], grade[1], pixel values[2:145])\n",
    "label_grade_imgpixels = np.zeros((len(label_grade[:,1]), 144 + len(label_grade[0,:])))\n",
    "for i in range(len(label_grade[:,1])):\n",
    "    for j in range(50):\n",
    "        if label_grade[i,0] == imgpixels_label[j,144]:\n",
    "            label_grade_imgpixels[i] = np.append(label_grade[i].astype(int), imgpixels_label[j,:144]) # img label, grade, pixels..."
   ]
  },
  {
   "cell_type": "code",
   "execution_count": 4,
   "metadata": {},
   "outputs": [
    {
     "data": {
      "text/plain": [
       "(6105, 144)"
      ]
     },
     "execution_count": 4,
     "metadata": {},
     "output_type": "execute_result"
    }
   ],
   "source": [
    "image_size = 12 # width and length\n",
    "no_of_different_grades = 10 #  i.e. 0, 1, 2, 3, ..., 9\n",
    "image_pixels = image_size * image_size\n",
    "\n",
    "# Compress possible pixel values to the interval [0.01, 1] \n",
    "train_imgs = np.asfarray(label_grade_imgpixels[:,2:146]) * 0.99/255 + 0.01\n",
    "train_imgs.shape"
   ]
  },
  {
   "cell_type": "code",
   "execution_count": 15,
   "metadata": {},
   "outputs": [
    {
     "data": {
      "text/plain": [
       "array([[0., 0., 0., ..., 0., 0., 0.],\n",
       "       [0., 0., 0., ..., 0., 0., 0.],\n",
       "       [0., 0., 0., ..., 0., 0., 0.],\n",
       "       ...,\n",
       "       [0., 0., 0., ..., 0., 0., 0.],\n",
       "       [0., 0., 0., ..., 0., 0., 1.],\n",
       "       [0., 0., 0., ..., 0., 0., 0.]])"
      ]
     },
     "execution_count": 15,
     "metadata": {},
     "output_type": "execute_result"
    }
   ],
   "source": [
    "# Map all image grades to One-Hot encoding\n",
    "a = label_grade_imgpixels[:,1]\n",
    "OneHotGrades = np.zeros((a.size, int(a.max()+1)))\n",
    "OneHotGrades[np.arange(a.size),a.astype(int)] = 1\n",
    "OneHotGrades"
   ]
  },
  {
   "cell_type": "code",
   "execution_count": 16,
   "metadata": {},
   "outputs": [],
   "source": [
    "# Get rid of all zeroes of ones\n",
    "OneHotGrades[OneHotGrades==0] = 0.01\n",
    "OneHotGrades[OneHotGrades==1] = 0.99"
   ]
  },
  {
   "cell_type": "code",
   "execution_count": null,
   "metadata": {
    "pycharm": {
     "name": "#%%\n"
    }
   },
   "outputs": [],
   "source": [
    "with open(datapath + 'Data/pickled_data.pkl', 'bw') as fh:\n",
    "    data = (label_grade_imgpixels, OneHotGrades, train_imgs)\n",
    "    pickle.dump(data, fh)"
   ]
  },
  {
   "cell_type": "code",
   "execution_count": null,
   "metadata": {
    "pycharm": {
     "name": "#%%\n"
    }
   },
   "outputs": [],
   "source": [
    "with open(datapath + \"Data/ANN_epoch10000_200H1.pkl\", \"rb\") as fh:\n",
    "    data = pickle.load(fh)"
   ]
  },
  {
   "cell_type": "code",
   "execution_count": 17,
   "metadata": {},
   "outputs": [],
   "source": []
  },
  {
   "cell_type": "code",
   "execution_count": 20,
   "metadata": {},
   "outputs": [
    {
     "ename": "AttributeError",
     "evalue": "Can't get attribute 'NeuralNetwork' on <module '__main__'>",
     "output_type": "error",
     "traceback": [
      "\u001b[0;31m---------------------------------------------------------------------------\u001b[0m",
      "\u001b[0;31mAttributeError\u001b[0m                            Traceback (most recent call last)",
      "\u001b[0;32m<ipython-input-20-9df08f666788>\u001b[0m in \u001b[0;36m<module>\u001b[0;34m\u001b[0m\n\u001b[1;32m      1\u001b[0m \u001b[0;32mwith\u001b[0m \u001b[0mopen\u001b[0m\u001b[0;34m(\u001b[0m\u001b[0mdatapath\u001b[0m \u001b[0;34m+\u001b[0m \u001b[0;34m\"Data/ANN_epoch10000_200H1.pkl\"\u001b[0m\u001b[0;34m,\u001b[0m \u001b[0;34m\"rb\"\u001b[0m\u001b[0;34m)\u001b[0m \u001b[0;32mas\u001b[0m \u001b[0mfh\u001b[0m\u001b[0;34m:\u001b[0m\u001b[0;34m\u001b[0m\u001b[0;34m\u001b[0m\u001b[0m\n\u001b[0;32m----> 2\u001b[0;31m     \u001b[0mdata\u001b[0m \u001b[0;34m=\u001b[0m \u001b[0mpickle\u001b[0m\u001b[0;34m.\u001b[0m\u001b[0mload\u001b[0m\u001b[0;34m(\u001b[0m\u001b[0mfh\u001b[0m\u001b[0;34m)\u001b[0m\u001b[0;34m\u001b[0m\u001b[0;34m\u001b[0m\u001b[0m\n\u001b[0m",
      "\u001b[0;31mAttributeError\u001b[0m: Can't get attribute 'NeuralNetwork' on <module '__main__'>"
     ]
    }
   ],
   "source": [
    "with open(datapath + \"Data/ANN_epoch10000_200H1.pkl\", \"rb\") as fh:\n",
    "    data = pickle.load(fh)"
   ]
  },
  {
   "cell_type": "code",
   "execution_count": null,
   "metadata": {},
   "outputs": [],
   "source": []
  }
 ],
 "metadata": {
  "kernelspec": {
   "display_name": "Python 3",
   "language": "python",
   "name": "python3"
  },
  "language_info": {
   "codemirror_mode": {
    "name": "ipython",
    "version": 3
   },
   "file_extension": ".py",
   "mimetype": "text/x-python",
   "name": "python",
   "nbconvert_exporter": "python",
   "pygments_lexer": "ipython3",
   "version": "3.8.5"
  },
  "pycharm": {
   "stem_cell": {
    "cell_type": "raw",
    "metadata": {
     "collapsed": false
    },
    "source": []
   }
  }
 },
 "nbformat": 4,
 "nbformat_minor": 4
}
