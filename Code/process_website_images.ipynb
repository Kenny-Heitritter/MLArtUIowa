{
 "cells": [
  {
   "cell_type": "code",
   "execution_count": null,
   "metadata": {},
   "outputs": [],
   "source": [
    "# Take the 50 randomline images and process them into a useable 12x12 pixel\n",
    "#    format. The 12x12 images are then saved as labeled csvs.\n"
   ]
  },
  {
   "cell_type": "code",
   "execution_count": 1,
   "metadata": {
    "pycharm": {
     "is_executing": false
    }
   },
   "outputs": [],
   "source": [
    "%matplotlib inline\n",
    "import numpy as np\n",
    "import matplotlib as mpl\n",
    "import matplotlib.pyplot as plt\n",
    "import scipy.misc\n",
    "import imageio\n",
    "import cv2\n",
    "from PIL import Image\n",
    "import pandas as pd\n",
    "import sys\n",
    "import os\n",
    "import csv\n",
    "import pickle\n",
    "datapath = \"/home/kenny/Dropbox/Coding/MLArtUIowa/Data/\" #HomeDesktop"
   ]
  },
  {
   "cell_type": "code",
   "execution_count": 2,
   "metadata": {},
   "outputs": [],
   "source": [
    "#Crop out the white space in the 50 png files from the website\n",
    "\n",
    "left = 112\n",
    "top = 34\n",
    "right = 331\n",
    "bottom = 253\n",
    "unique_names = np.array([\"yim\" + str(i) + \".png\" for i in range(50)])  #Website Data\n",
    "for name in unique_names:\n",
    "    img = Image.open(datapath + \"unprocessed_50imgs/\" + name)\n",
    "    cropped_img = img.crop((left, top, right, bottom)) \n",
    "    cropped_img.save(datapath + \"unprocessed_50imgs/cropped\" + name)\n",
    "    "
   ]
  },
  {
   "cell_type": "code",
   "execution_count": 3,
   "metadata": {},
   "outputs": [],
   "source": [
    "# Resize images to 12x12 pixels\n",
    "\n",
    "\n",
    "for name in unique_names:\n",
    "    img = cv2.imread(datapath + \"unprocessed_50imgs/cropped\" + name, cv2.IMREAD_UNCHANGED)\n",
    "    resized_img = cv2.resize(img, (12, 12))\n",
    "    cv2.imwrite(datapath + \"processed_50imgs/\" + name, resized_img)\n"
   ]
  },
  {
   "cell_type": "code",
   "execution_count": 4,
   "metadata": {},
   "outputs": [],
   "source": [
    "# Create csv where the each row is a different image. The first 144 columns\n",
    "#  are pixel values and the last column is the image number (from 0 - 49)\n",
    "\n",
    "format = '.png'\n",
    "fileList = []\n",
    "#print(myDir)\n",
    "#for root, dirs, files in os.walk(datapath + \"Data/processed_randomline_images/\", topdown=False):\n",
    "for root, dirs, files in os.walk(datapath + \"processed_50imgs/\", topdown=False):\n",
    "    for name in sorted(files):\n",
    "        if name.endswith(format):\n",
    "            fullName = os.path.join(root, name)\n",
    "            fileList.append(fullName)\n",
    "\n",
    "for file in fileList:\n",
    "    #print(file)\n",
    "    img_file = Image.open(file)\n",
    "    # img_file.show()\n",
    "\n",
    "    # get original image parameters...\n",
    "    width, height = img_file.size\n",
    "    format = img_file.format\n",
    "    mode = img_file.mode\n",
    "\n",
    "    # Make image Greyscale\n",
    "    img_grey = img_file.convert('L')\n",
    "    #img_grey.save('result.png')\n",
    "    #img_grey.show()\n",
    "    \n",
    "    # Save Greyscale values\n",
    "    value = np.asarray(img_grey.getdata(), dtype=np.int).reshape((img_grey.size[1], img_grey.size[0]))\n",
    "    value = value.flatten()\n",
    "    # print(value)\n",
    "    #with open(datapath + \"Data/imgpixels_label.csv\", 'a') as f:Code\n",
    "    with open(datapath + \"imgpixels_label.csv\", 'a') as f:\n",
    "        writer = csv.writer(f)\n",
    "        writer.writerow(np.append(value,file[63:-4])) # Change these indices based on your file path"
   ]
  },
  {
   "cell_type": "code",
   "execution_count": 5,
   "metadata": {},
   "outputs": [],
   "source": [
    "# Read website grade data and create a csv where the first column is the img number and the\n",
    "#  second column is the user-assigned grade\n",
    "\n",
    "with open(datapath + \"website_image_grades.csv\", \"r\") as f:\n",
    "    reader = csv.reader(f, delimiter=',')\n",
    "    headers = next(reader)\n",
    "    data = list(reader)\n",
    "    data = np.array(data)\n",
    "    \n",
    "image_names = data[:,1]\n",
    "image_grades = data[:,2]\n",
    "\n",
    "for i in range(len(image_names)):\n",
    "    with open(datapath + \"label_grade.csv\", 'a') as f:\n",
    "        writer = csv.writer(f)\n",
    "        writer.writerow([int(image_names[i][3:-4]),int(image_grades[i])])"
   ]
  },
  {
   "cell_type": "code",
   "execution_count": 6,
   "metadata": {},
   "outputs": [],
   "source": [
    "# Load data\n",
    "\n",
    "imgpixels_label = np.loadtxt(datapath + \"imgpixels_label.csv\", \n",
    "                        delimiter=\",\")\n",
    "label_grade = np.loadtxt(datapath + \"label_grade.csv\", \n",
    "                        delimiter=\",\")\n",
    "# Create array of user-submitted data with structure (label[0], grade[1], pixel values[2:145])\n",
    "label_grade_imgpixels = np.zeros((len(label_grade[:,1]), 144 + len(label_grade[0,:])))\n",
    "for i in range(len(label_grade[:,1])):\n",
    "    for j in range(50):\n",
    "        if label_grade[i,0] == imgpixels_label[j,144]:\n",
    "            label_grade_imgpixels[i] = np.append(label_grade[i].astype(int), imgpixels_label[j,:144]) # img label, grade, pixels..."
   ]
  },
  {
   "cell_type": "code",
   "execution_count": 7,
   "metadata": {},
   "outputs": [
    {
     "data": {
      "text/plain": [
       "(3280, 144)"
      ]
     },
     "execution_count": 7,
     "metadata": {},
     "output_type": "execute_result"
    }
   ],
   "source": [
    "image_size = 12 # width and length\n",
    "no_of_different_grades = 10 #  i.e. 0, 1, 2, 3, ..., 9\n",
    "image_pixels = image_size * image_size\n",
    "\n",
    "# Compress possible pixel values to the interval [0.01, 1] \n",
    "train_imgs = np.asfarray(label_grade_imgpixels[:,2:146], dtype='float32') * 0.99/255 + 0.01\n",
    "label_grade_pixels = np.concatenate((np.asfarray(label_grade_imgpixels[:,0:2], dtype='float32'),train_imgs), axis=1)\n",
    "train_imgs.shape"
   ]
  },
  {
   "cell_type": "markdown",
   "metadata": {},
   "source": [
    "Add headings to label_grade_pixels array and then write to csv"
   ]
  },
  {
   "cell_type": "code",
   "execution_count": 8,
   "metadata": {},
   "outputs": [
    {
     "data": {
      "text/plain": [
       "3280"
      ]
     },
     "execution_count": 8,
     "metadata": {},
     "output_type": "execute_result"
    }
   ],
   "source": [
    "len(label_grade_pixels)"
   ]
  },
  {
   "cell_type": "code",
   "execution_count": 9,
   "metadata": {},
   "outputs": [],
   "source": [
    "header = []\n",
    "for i in range(len(label_grade_pixels[1])):\n",
    "    if i==0:\n",
    "        header.append(\"Label\")\n",
    "    if i==1:\n",
    "        header.append(\"Grade\")\n",
    "    if i>1:\n",
    "        header.append(\"Pixel\" + str(i-1))\n",
    "        "
   ]
  },
  {
   "cell_type": "code",
   "execution_count": 10,
   "metadata": {},
   "outputs": [],
   "source": [
    "label_grade_pixels = pd.DataFrame(data=label_grade_pixels, columns=header)"
   ]
  },
  {
   "cell_type": "code",
   "execution_count": 11,
   "metadata": {},
   "outputs": [],
   "source": [
    "label_grade_pixels.to_csv(\"../Data/label_grade_pixels.csv\")"
   ]
  },
  {
   "cell_type": "markdown",
   "metadata": {},
   "source": [
    " Break up the total dataset into 70% training and 30% testing (some quick googling suggested this is a typical breakup for small datasets)\n",
    " \n",
    " Pandas DataFrame object class makes this simple with the df.sample and df.drop functions"
   ]
  },
  {
   "cell_type": "code",
   "execution_count": 19,
   "metadata": {},
   "outputs": [],
   "source": [
    "num_train = 0.7*(label_grade_pixels.shape[0])\n",
    "num_test = 0.3*(label_grade_pixels.shape[0])"
   ]
  },
  {
   "cell_type": "code",
   "execution_count": 42,
   "metadata": {},
   "outputs": [],
   "source": [
    "train_df=label_grade_pixels.sample(frac=0.7)\n",
    "test_df=label_grade_pixels.drop(train_df.index)"
   ]
  },
  {
   "cell_type": "code",
   "execution_count": 45,
   "metadata": {},
   "outputs": [],
   "source": [
    "train_df.to_csv(\"../Data/train.csv\")\n",
    "test_df.to_csv(\"../Data/test.csv\")"
   ]
  },
  {
   "cell_type": "code",
   "execution_count": 46,
   "metadata": {},
   "outputs": [
    {
     "data": {
      "text/plain": [
       "array([[0., 0., 0., ..., 0., 0., 0.],\n",
       "       [0., 0., 0., ..., 0., 0., 0.],\n",
       "       [0., 0., 0., ..., 0., 0., 0.],\n",
       "       ...,\n",
       "       [0., 0., 0., ..., 0., 0., 0.],\n",
       "       [0., 0., 0., ..., 0., 0., 1.],\n",
       "       [0., 0., 1., ..., 0., 0., 0.]])"
      ]
     },
     "execution_count": 46,
     "metadata": {},
     "output_type": "execute_result"
    }
   ],
   "source": [
    "# Map all image grades to One-Hot encoding\n",
    "a = label_grade_imgpixels[:,1]\n",
    "OneHotGrades = np.zeros((a.size, int(a.max()+1)))\n",
    "OneHotGrades[np.arange(a.size),a.astype(int)] = 1\n",
    "OneHotGrades"
   ]
  },
  {
   "cell_type": "code",
   "execution_count": 11,
   "metadata": {},
   "outputs": [],
   "source": [
    "# Get rid of all zeroes o ones\n",
    "OneHotGrades[OneHotGrades==0] = 0.01\n",
    "OneHotGrades[OneHotGrades==1] = 0.99"
   ]
  },
  {
   "cell_type": "code",
   "execution_count": 56,
   "metadata": {},
   "outputs": [
    {
     "data": {
      "text/plain": [
       "(6560, 10)"
      ]
     },
     "execution_count": 56,
     "metadata": {},
     "output_type": "execute_result"
    }
   ],
   "source": [
    "OneHotGrades.shape"
   ]
  },
  {
   "cell_type": "code",
   "execution_count": null,
   "metadata": {
    "pycharm": {
     "name": "#%%\n"
    }
   },
   "outputs": [],
   "source": [
    "with open(datapath + 'Data/pickled_data.pkl', 'bw') as fh:\n",
    "    data = (label_grade_imgpixels, OneHotGrades, train_imgs)\n",
    "    pickle.dump(data, fh)"
   ]
  },
  {
   "cell_type": "code",
   "execution_count": null,
   "metadata": {
    "pycharm": {
     "name": "#%%\n"
    }
   },
   "outputs": [],
   "source": [
    "with open(datapath + \"Data/ANN_epoch10000_200H1.pkl\", \"rb\") as fh:\n",
    "    data = pickle.load(fh)"
   ]
  },
  {
   "cell_type": "code",
   "execution_count": 17,
   "metadata": {},
   "outputs": [],
   "source": []
  },
  {
   "cell_type": "code",
   "execution_count": 20,
   "metadata": {},
   "outputs": [
    {
     "ename": "AttributeError",
     "evalue": "Can't get attribute 'NeuralNetwork' on <module '__main__'>",
     "output_type": "error",
     "traceback": [
      "\u001b[0;31m---------------------------------------------------------------------------\u001b[0m",
      "\u001b[0;31mAttributeError\u001b[0m                            Traceback (most recent call last)",
      "\u001b[0;32m<ipython-input-20-9df08f666788>\u001b[0m in \u001b[0;36m<module>\u001b[0;34m\u001b[0m\n\u001b[1;32m      1\u001b[0m \u001b[0;32mwith\u001b[0m \u001b[0mopen\u001b[0m\u001b[0;34m(\u001b[0m\u001b[0mdatapath\u001b[0m \u001b[0;34m+\u001b[0m \u001b[0;34m\"Data/ANN_epoch10000_200H1.pkl\"\u001b[0m\u001b[0;34m,\u001b[0m \u001b[0;34m\"rb\"\u001b[0m\u001b[0;34m)\u001b[0m \u001b[0;32mas\u001b[0m \u001b[0mfh\u001b[0m\u001b[0;34m:\u001b[0m\u001b[0;34m\u001b[0m\u001b[0;34m\u001b[0m\u001b[0m\n\u001b[0;32m----> 2\u001b[0;31m     \u001b[0mdata\u001b[0m \u001b[0;34m=\u001b[0m \u001b[0mpickle\u001b[0m\u001b[0;34m.\u001b[0m\u001b[0mload\u001b[0m\u001b[0;34m(\u001b[0m\u001b[0mfh\u001b[0m\u001b[0;34m)\u001b[0m\u001b[0;34m\u001b[0m\u001b[0;34m\u001b[0m\u001b[0m\n\u001b[0m",
      "\u001b[0;31mAttributeError\u001b[0m: Can't get attribute 'NeuralNetwork' on <module '__main__'>"
     ]
    }
   ],
   "source": [
    "with open(datapath + \"Data/ANN_epoch10000_200H1.pkl\", \"rb\") as fh:\n",
    "    data = pickle.load(fh)"
   ]
  },
  {
   "cell_type": "code",
   "execution_count": null,
   "metadata": {},
   "outputs": [],
   "source": []
  }
 ],
 "metadata": {
  "kernelspec": {
   "display_name": "Python 3",
   "language": "python",
   "name": "python3"
  },
  "language_info": {
   "codemirror_mode": {
    "name": "ipython",
    "version": 3
   },
   "file_extension": ".py",
   "mimetype": "text/x-python",
   "name": "python",
   "nbconvert_exporter": "python",
   "pygments_lexer": "ipython3",
   "version": "3.8.8"
  },
  "pycharm": {
   "stem_cell": {
    "cell_type": "raw",
    "metadata": {
     "collapsed": false
    },
    "source": []
   }
  }
 },
 "nbformat": 4,
 "nbformat_minor": 4
}
